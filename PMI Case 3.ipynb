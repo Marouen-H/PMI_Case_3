{
 "cells": [
  {
   "cell_type": "markdown",
   "metadata": {},
   "source": [
    "## The purpose is to create  a model that identifies important attributes in the surroundings that Impact Sales.\n",
    "#### The approach that I propose here is to build a model that uses the available surroundings data to predict the sales.\n",
    "#### I propose to treat this as a Supervised Regression problem in which the target variable is the sales\n",
    "#### Importing data manipulation and visualization libraries"
   ]
  },
  {
   "cell_type": "code",
   "execution_count": 1,
   "metadata": {
    "collapsed": true
   },
   "outputs": [],
   "source": [
    "import pandas as pd\n",
    "from matplotlib import pyplot as plt"
   ]
  },
  {
   "cell_type": "markdown",
   "metadata": {},
   "source": [
    "#### Reading the data files"
   ]
  },
  {
   "cell_type": "code",
   "execution_count": 2,
   "metadata": {
    "collapsed": true
   },
   "outputs": [],
   "source": [
    "sales_granular = pd.read_csv('sales_granular.csv',delimiter=',')\n",
    "surroundings = pd.read_json('Surroundings.json')"
   ]
  },
  {
   "cell_type": "markdown",
   "metadata": {},
   "source": [
    "## Surroundings data\n",
    "\n",
    "#### The surroundings file contains detailed data about the surrounding amenities of stores\n",
    "#### I'm going to start by extracting the number of each type a creating a new column for it"
   ]
  },
  {
   "cell_type": "code",
   "execution_count": 3,
   "metadata": {
    "collapsed": true
   },
   "outputs": [],
   "source": [
    "for i in surroundings.surroundings[0].keys():                            \n",
    "    surroundings[i] = surroundings.surroundings.apply(lambda x : len(x[i]))"
   ]
  },
  {
   "cell_type": "code",
   "execution_count": 212,
   "metadata": {},
   "outputs": [
    {
     "data": {
      "text/html": [
       "<div>\n",
       "<style scoped>\n",
       "    .dataframe tbody tr th:only-of-type {\n",
       "        vertical-align: middle;\n",
       "    }\n",
       "\n",
       "    .dataframe tbody tr th {\n",
       "        vertical-align: top;\n",
       "    }\n",
       "\n",
       "    .dataframe thead th {\n",
       "        text-align: right;\n",
       "    }\n",
       "</style>\n",
       "<table border=\"1\" class=\"dataframe\">\n",
       "  <thead>\n",
       "    <tr style=\"text-align: right;\">\n",
       "      <th></th>\n",
       "      <th>store_code</th>\n",
       "      <th>surroundings</th>\n",
       "      <th>subway_station</th>\n",
       "      <th>department_store</th>\n",
       "      <th>embassy</th>\n",
       "      <th>beauty_salon</th>\n",
       "      <th>police</th>\n",
       "      <th>courthouse</th>\n",
       "      <th>cemetery</th>\n",
       "      <th>pharmacy</th>\n",
       "      <th>...</th>\n",
       "      <th>storage</th>\n",
       "      <th>zoo</th>\n",
       "      <th>train_station</th>\n",
       "      <th>jewelry_store</th>\n",
       "      <th>laundry</th>\n",
       "      <th>insurance_agency</th>\n",
       "      <th>plumber</th>\n",
       "      <th>pet_store</th>\n",
       "      <th>bakery</th>\n",
       "      <th>travel_agency</th>\n",
       "    </tr>\n",
       "  </thead>\n",
       "  <tbody>\n",
       "    <tr>\n",
       "      <th>0</th>\n",
       "      <td>10055</td>\n",
       "      <td>{u'subway_station': [], u'department_store': [...</td>\n",
       "      <td>0</td>\n",
       "      <td>0</td>\n",
       "      <td>0</td>\n",
       "      <td>4</td>\n",
       "      <td>0</td>\n",
       "      <td>0</td>\n",
       "      <td>0</td>\n",
       "      <td>3</td>\n",
       "      <td>...</td>\n",
       "      <td>1</td>\n",
       "      <td>0</td>\n",
       "      <td>0</td>\n",
       "      <td>0</td>\n",
       "      <td>1</td>\n",
       "      <td>2</td>\n",
       "      <td>0</td>\n",
       "      <td>0</td>\n",
       "      <td>3</td>\n",
       "      <td>1</td>\n",
       "    </tr>\n",
       "    <tr>\n",
       "      <th>1</th>\n",
       "      <td>10077</td>\n",
       "      <td>{u'subway_station': [], u'department_store': [...</td>\n",
       "      <td>0</td>\n",
       "      <td>0</td>\n",
       "      <td>0</td>\n",
       "      <td>0</td>\n",
       "      <td>0</td>\n",
       "      <td>0</td>\n",
       "      <td>0</td>\n",
       "      <td>1</td>\n",
       "      <td>...</td>\n",
       "      <td>0</td>\n",
       "      <td>0</td>\n",
       "      <td>0</td>\n",
       "      <td>0</td>\n",
       "      <td>0</td>\n",
       "      <td>0</td>\n",
       "      <td>0</td>\n",
       "      <td>0</td>\n",
       "      <td>1</td>\n",
       "      <td>0</td>\n",
       "    </tr>\n",
       "    <tr>\n",
       "      <th>2</th>\n",
       "      <td>10079</td>\n",
       "      <td>{u'subway_station': [], u'department_store': [...</td>\n",
       "      <td>0</td>\n",
       "      <td>1</td>\n",
       "      <td>0</td>\n",
       "      <td>4</td>\n",
       "      <td>0</td>\n",
       "      <td>1</td>\n",
       "      <td>0</td>\n",
       "      <td>3</td>\n",
       "      <td>...</td>\n",
       "      <td>0</td>\n",
       "      <td>0</td>\n",
       "      <td>0</td>\n",
       "      <td>4</td>\n",
       "      <td>2</td>\n",
       "      <td>2</td>\n",
       "      <td>0</td>\n",
       "      <td>0</td>\n",
       "      <td>3</td>\n",
       "      <td>2</td>\n",
       "    </tr>\n",
       "    <tr>\n",
       "      <th>3</th>\n",
       "      <td>10086</td>\n",
       "      <td>{u'subway_station': [], u'department_store': [...</td>\n",
       "      <td>0</td>\n",
       "      <td>0</td>\n",
       "      <td>0</td>\n",
       "      <td>2</td>\n",
       "      <td>0</td>\n",
       "      <td>0</td>\n",
       "      <td>0</td>\n",
       "      <td>1</td>\n",
       "      <td>...</td>\n",
       "      <td>0</td>\n",
       "      <td>0</td>\n",
       "      <td>0</td>\n",
       "      <td>0</td>\n",
       "      <td>0</td>\n",
       "      <td>0</td>\n",
       "      <td>0</td>\n",
       "      <td>0</td>\n",
       "      <td>0</td>\n",
       "      <td>0</td>\n",
       "    </tr>\n",
       "    <tr>\n",
       "      <th>4</th>\n",
       "      <td>10111</td>\n",
       "      <td>{u'subway_station': [], u'department_store': [...</td>\n",
       "      <td>0</td>\n",
       "      <td>0</td>\n",
       "      <td>0</td>\n",
       "      <td>0</td>\n",
       "      <td>0</td>\n",
       "      <td>0</td>\n",
       "      <td>0</td>\n",
       "      <td>0</td>\n",
       "      <td>...</td>\n",
       "      <td>0</td>\n",
       "      <td>0</td>\n",
       "      <td>0</td>\n",
       "      <td>1</td>\n",
       "      <td>0</td>\n",
       "      <td>0</td>\n",
       "      <td>0</td>\n",
       "      <td>1</td>\n",
       "      <td>0</td>\n",
       "      <td>0</td>\n",
       "    </tr>\n",
       "  </tbody>\n",
       "</table>\n",
       "<p>5 rows × 91 columns</p>\n",
       "</div>"
      ],
      "text/plain": [
       "   store_code                                       surroundings  \\\n",
       "0       10055  {u'subway_station': [], u'department_store': [...   \n",
       "1       10077  {u'subway_station': [], u'department_store': [...   \n",
       "2       10079  {u'subway_station': [], u'department_store': [...   \n",
       "3       10086  {u'subway_station': [], u'department_store': [...   \n",
       "4       10111  {u'subway_station': [], u'department_store': [...   \n",
       "\n",
       "   subway_station  department_store  embassy  beauty_salon  police  \\\n",
       "0               0                 0        0             4       0   \n",
       "1               0                 0        0             0       0   \n",
       "2               0                 1        0             4       0   \n",
       "3               0                 0        0             2       0   \n",
       "4               0                 0        0             0       0   \n",
       "\n",
       "   courthouse  cemetery  pharmacy      ...        storage  zoo  train_station  \\\n",
       "0           0         0         3      ...              1    0              0   \n",
       "1           0         0         1      ...              0    0              0   \n",
       "2           1         0         3      ...              0    0              0   \n",
       "3           0         0         1      ...              0    0              0   \n",
       "4           0         0         0      ...              0    0              0   \n",
       "\n",
       "   jewelry_store  laundry  insurance_agency  plumber  pet_store  bakery  \\\n",
       "0              0        1                 2        0          0       3   \n",
       "1              0        0                 0        0          0       1   \n",
       "2              4        2                 2        0          0       3   \n",
       "3              0        0                 0        0          0       0   \n",
       "4              1        0                 0        0          1       0   \n",
       "\n",
       "   travel_agency  \n",
       "0              1  \n",
       "1              0  \n",
       "2              2  \n",
       "3              0  \n",
       "4              0  \n",
       "\n",
       "[5 rows x 91 columns]"
      ]
     },
     "execution_count": 212,
     "metadata": {},
     "output_type": "execute_result"
    }
   ],
   "source": [
    "surroundings.head()"
   ]
  },
  {
   "cell_type": "markdown",
   "metadata": {},
   "source": [
    "## Sales Data\n",
    "\n",
    "#### The sales_granular file contains the sales of each store per line, with time frames as columns \n",
    "#### I'm going to to transform it to one observation per line, with one observation being sales of a single store at a single time frame.\n"
   ]
  },
  {
   "cell_type": "code",
   "execution_count": 4,
   "metadata": {},
   "outputs": [],
   "source": [
    "dates = list(sales_granular.columns)"
   ]
  },
  {
   "cell_type": "code",
   "execution_count": 5,
   "metadata": {},
   "outputs": [],
   "source": [
    "dates.remove('store_code')"
   ]
  },
  {
   "cell_type": "markdown",
   "metadata": {},
   "source": [
    "###### The Process below takes a significant amount of time so I run it and saved the results in a csv file, so that at each run the results can be read directly from the file."
   ]
  },
  {
   "cell_type": "code",
   "execution_count": 6,
   "metadata": {},
   "outputs": [],
   "source": [
    "\n",
    "#sales_rec = pd.DataFrame(columns=[u'store_code', u'sales',u'date'])"
   ]
  },
  {
   "cell_type": "code",
   "execution_count": 7,
   "metadata": {
    "scrolled": true
   },
   "outputs": [],
   "source": [
    "#for i in dates:\n",
    "#    print i\n",
    "#    sales_tmp = sales_granular[['store_code',i]]\n",
    "#\n",
    "#    sales_tmp.columns = [u'store_code', u'sales']\n",
    "#\n",
    "#    sales_tmp['date'] = i\n",
    "#    \n",
    "#    sales_rec = sales_rec.append(sales_tmp)"
   ]
  },
  {
   "cell_type": "code",
   "execution_count": 8,
   "metadata": {},
   "outputs": [],
   "source": [
    "#sales_rec.head()"
   ]
  },
  {
   "cell_type": "markdown",
   "metadata": {},
   "source": []
  },
  {
   "cell_type": "code",
   "execution_count": 10,
   "metadata": {},
   "outputs": [],
   "source": [
    "#sales_rec.to_csv('sales_combined.csv')\n",
    "sales_rec = pd.read_csv('sales_combined.csv')"
   ]
  },
  {
   "cell_type": "markdown",
   "metadata": {},
   "source": [
    "##### Converting the sales values to floats"
   ]
  },
  {
   "cell_type": "code",
   "execution_count": 11,
   "metadata": {},
   "outputs": [],
   "source": [
    "sales_rec.sales = sales_rec.sales.astype(float)"
   ]
  },
  {
   "cell_type": "markdown",
   "metadata": {},
   "source": [
    "##### Converting the time frame values to date time format"
   ]
  },
  {
   "cell_type": "code",
   "execution_count": 13,
   "metadata": {},
   "outputs": [],
   "source": [
    "sales_rec.date = pd.to_datetime(sales_rec['date'])"
   ]
  },
  {
   "cell_type": "code",
   "execution_count": 14,
   "metadata": {},
   "outputs": [
    {
     "data": {
      "text/html": [
       "<div>\n",
       "<style scoped>\n",
       "    .dataframe tbody tr th:only-of-type {\n",
       "        vertical-align: middle;\n",
       "    }\n",
       "\n",
       "    .dataframe tbody tr th {\n",
       "        vertical-align: top;\n",
       "    }\n",
       "\n",
       "    .dataframe thead th {\n",
       "        text-align: right;\n",
       "    }\n",
       "</style>\n",
       "<table border=\"1\" class=\"dataframe\">\n",
       "  <thead>\n",
       "    <tr style=\"text-align: right;\">\n",
       "      <th></th>\n",
       "      <th>Unnamed: 0</th>\n",
       "      <th>store_code</th>\n",
       "      <th>sales</th>\n",
       "      <th>date</th>\n",
       "    </tr>\n",
       "  </thead>\n",
       "  <tbody>\n",
       "    <tr>\n",
       "      <th>0</th>\n",
       "      <td>0</td>\n",
       "      <td>10055</td>\n",
       "      <td>NaN</td>\n",
       "      <td>2015-08-03 09:00:00</td>\n",
       "    </tr>\n",
       "    <tr>\n",
       "      <th>1</th>\n",
       "      <td>1</td>\n",
       "      <td>10077</td>\n",
       "      <td>NaN</td>\n",
       "      <td>2015-08-03 09:00:00</td>\n",
       "    </tr>\n",
       "    <tr>\n",
       "      <th>2</th>\n",
       "      <td>2</td>\n",
       "      <td>10079</td>\n",
       "      <td>NaN</td>\n",
       "      <td>2015-08-03 09:00:00</td>\n",
       "    </tr>\n",
       "    <tr>\n",
       "      <th>3</th>\n",
       "      <td>3</td>\n",
       "      <td>10081</td>\n",
       "      <td>NaN</td>\n",
       "      <td>2015-08-03 09:00:00</td>\n",
       "    </tr>\n",
       "    <tr>\n",
       "      <th>4</th>\n",
       "      <td>4</td>\n",
       "      <td>10085</td>\n",
       "      <td>NaN</td>\n",
       "      <td>2015-08-03 09:00:00</td>\n",
       "    </tr>\n",
       "  </tbody>\n",
       "</table>\n",
       "</div>"
      ],
      "text/plain": [
       "   Unnamed: 0  store_code  sales                date\n",
       "0           0       10055    NaN 2015-08-03 09:00:00\n",
       "1           1       10077    NaN 2015-08-03 09:00:00\n",
       "2           2       10079    NaN 2015-08-03 09:00:00\n",
       "3           3       10081    NaN 2015-08-03 09:00:00\n",
       "4           4       10085    NaN 2015-08-03 09:00:00"
      ]
     },
     "execution_count": 14,
     "metadata": {},
     "output_type": "execute_result"
    }
   ],
   "source": [
    "sales_rec.head()"
   ]
  },
  {
   "cell_type": "markdown",
   "metadata": {},
   "source": [
    "##### Creating a new column for date at the day level"
   ]
  },
  {
   "cell_type": "code",
   "execution_count": 15,
   "metadata": {},
   "outputs": [],
   "source": [
    "sales_rec['date_daily'] = sales_rec['date'].dt.date"
   ]
  },
  {
   "cell_type": "code",
   "execution_count": 16,
   "metadata": {},
   "outputs": [
    {
     "data": {
      "text/html": [
       "<div>\n",
       "<style scoped>\n",
       "    .dataframe tbody tr th:only-of-type {\n",
       "        vertical-align: middle;\n",
       "    }\n",
       "\n",
       "    .dataframe tbody tr th {\n",
       "        vertical-align: top;\n",
       "    }\n",
       "\n",
       "    .dataframe thead th {\n",
       "        text-align: right;\n",
       "    }\n",
       "</style>\n",
       "<table border=\"1\" class=\"dataframe\">\n",
       "  <thead>\n",
       "    <tr style=\"text-align: right;\">\n",
       "      <th></th>\n",
       "      <th>Unnamed: 0</th>\n",
       "      <th>store_code</th>\n",
       "      <th>sales</th>\n",
       "      <th>date</th>\n",
       "      <th>date_daily</th>\n",
       "    </tr>\n",
       "  </thead>\n",
       "  <tbody>\n",
       "    <tr>\n",
       "      <th>0</th>\n",
       "      <td>0</td>\n",
       "      <td>10055</td>\n",
       "      <td>NaN</td>\n",
       "      <td>2015-08-03 09:00:00</td>\n",
       "      <td>2015-08-03</td>\n",
       "    </tr>\n",
       "    <tr>\n",
       "      <th>1</th>\n",
       "      <td>1</td>\n",
       "      <td>10077</td>\n",
       "      <td>NaN</td>\n",
       "      <td>2015-08-03 09:00:00</td>\n",
       "      <td>2015-08-03</td>\n",
       "    </tr>\n",
       "    <tr>\n",
       "      <th>2</th>\n",
       "      <td>2</td>\n",
       "      <td>10079</td>\n",
       "      <td>NaN</td>\n",
       "      <td>2015-08-03 09:00:00</td>\n",
       "      <td>2015-08-03</td>\n",
       "    </tr>\n",
       "    <tr>\n",
       "      <th>3</th>\n",
       "      <td>3</td>\n",
       "      <td>10081</td>\n",
       "      <td>NaN</td>\n",
       "      <td>2015-08-03 09:00:00</td>\n",
       "      <td>2015-08-03</td>\n",
       "    </tr>\n",
       "    <tr>\n",
       "      <th>4</th>\n",
       "      <td>4</td>\n",
       "      <td>10085</td>\n",
       "      <td>NaN</td>\n",
       "      <td>2015-08-03 09:00:00</td>\n",
       "      <td>2015-08-03</td>\n",
       "    </tr>\n",
       "  </tbody>\n",
       "</table>\n",
       "</div>"
      ],
      "text/plain": [
       "   Unnamed: 0  store_code  sales                date  date_daily\n",
       "0           0       10055    NaN 2015-08-03 09:00:00  2015-08-03\n",
       "1           1       10077    NaN 2015-08-03 09:00:00  2015-08-03\n",
       "2           2       10079    NaN 2015-08-03 09:00:00  2015-08-03\n",
       "3           3       10081    NaN 2015-08-03 09:00:00  2015-08-03\n",
       "4           4       10085    NaN 2015-08-03 09:00:00  2015-08-03"
      ]
     },
     "execution_count": 16,
     "metadata": {},
     "output_type": "execute_result"
    }
   ],
   "source": [
    "sales_rec.head()"
   ]
  },
  {
   "cell_type": "markdown",
   "metadata": {},
   "source": [
    "#### As an inital step, I chose to aggregate the sales at day level"
   ]
  },
  {
   "cell_type": "code",
   "execution_count": 17,
   "metadata": {
    "collapsed": true
   },
   "outputs": [],
   "source": [
    "sales_d = sales_rec[['store_code','sales','date_daily']]"
   ]
  },
  {
   "cell_type": "code",
   "execution_count": 18,
   "metadata": {},
   "outputs": [
    {
     "data": {
      "text/html": [
       "<div>\n",
       "<style scoped>\n",
       "    .dataframe tbody tr th:only-of-type {\n",
       "        vertical-align: middle;\n",
       "    }\n",
       "\n",
       "    .dataframe tbody tr th {\n",
       "        vertical-align: top;\n",
       "    }\n",
       "\n",
       "    .dataframe thead th {\n",
       "        text-align: right;\n",
       "    }\n",
       "</style>\n",
       "<table border=\"1\" class=\"dataframe\">\n",
       "  <thead>\n",
       "    <tr style=\"text-align: right;\">\n",
       "      <th></th>\n",
       "      <th>store_code</th>\n",
       "      <th>sales</th>\n",
       "      <th>date_daily</th>\n",
       "    </tr>\n",
       "  </thead>\n",
       "  <tbody>\n",
       "    <tr>\n",
       "      <th>0</th>\n",
       "      <td>10055</td>\n",
       "      <td>NaN</td>\n",
       "      <td>2015-08-03</td>\n",
       "    </tr>\n",
       "    <tr>\n",
       "      <th>1</th>\n",
       "      <td>10077</td>\n",
       "      <td>NaN</td>\n",
       "      <td>2015-08-03</td>\n",
       "    </tr>\n",
       "    <tr>\n",
       "      <th>2</th>\n",
       "      <td>10079</td>\n",
       "      <td>NaN</td>\n",
       "      <td>2015-08-03</td>\n",
       "    </tr>\n",
       "    <tr>\n",
       "      <th>3</th>\n",
       "      <td>10081</td>\n",
       "      <td>NaN</td>\n",
       "      <td>2015-08-03</td>\n",
       "    </tr>\n",
       "    <tr>\n",
       "      <th>4</th>\n",
       "      <td>10085</td>\n",
       "      <td>NaN</td>\n",
       "      <td>2015-08-03</td>\n",
       "    </tr>\n",
       "  </tbody>\n",
       "</table>\n",
       "</div>"
      ],
      "text/plain": [
       "   store_code  sales  date_daily\n",
       "0       10055    NaN  2015-08-03\n",
       "1       10077    NaN  2015-08-03\n",
       "2       10079    NaN  2015-08-03\n",
       "3       10081    NaN  2015-08-03\n",
       "4       10085    NaN  2015-08-03"
      ]
     },
     "execution_count": 18,
     "metadata": {},
     "output_type": "execute_result"
    }
   ],
   "source": [
    "sales_d.head()"
   ]
  },
  {
   "cell_type": "code",
   "execution_count": 19,
   "metadata": {},
   "outputs": [],
   "source": [
    "#sales_d.groupby(['store_code','date_daily'])['sales'].sum() \n",
    "sales_daily = sales_d.groupby(['store_code','date_daily'])['sales'].sum().reset_index()"
   ]
  },
  {
   "cell_type": "code",
   "execution_count": 237,
   "metadata": {
    "scrolled": true
   },
   "outputs": [
    {
     "data": {
      "text/html": [
       "<div>\n",
       "<style scoped>\n",
       "    .dataframe tbody tr th:only-of-type {\n",
       "        vertical-align: middle;\n",
       "    }\n",
       "\n",
       "    .dataframe tbody tr th {\n",
       "        vertical-align: top;\n",
       "    }\n",
       "\n",
       "    .dataframe thead th {\n",
       "        text-align: right;\n",
       "    }\n",
       "</style>\n",
       "<table border=\"1\" class=\"dataframe\">\n",
       "  <thead>\n",
       "    <tr style=\"text-align: right;\">\n",
       "      <th></th>\n",
       "      <th>store_code</th>\n",
       "      <th>date_daily</th>\n",
       "      <th>sales</th>\n",
       "    </tr>\n",
       "  </thead>\n",
       "  <tbody>\n",
       "    <tr>\n",
       "      <th>0</th>\n",
       "      <td>249</td>\n",
       "      <td>2015-08-03</td>\n",
       "      <td>0.0</td>\n",
       "    </tr>\n",
       "    <tr>\n",
       "      <th>1</th>\n",
       "      <td>249</td>\n",
       "      <td>2015-08-04</td>\n",
       "      <td>0.0</td>\n",
       "    </tr>\n",
       "    <tr>\n",
       "      <th>2</th>\n",
       "      <td>249</td>\n",
       "      <td>2015-08-05</td>\n",
       "      <td>0.0</td>\n",
       "    </tr>\n",
       "    <tr>\n",
       "      <th>3</th>\n",
       "      <td>249</td>\n",
       "      <td>2015-08-06</td>\n",
       "      <td>0.0</td>\n",
       "    </tr>\n",
       "    <tr>\n",
       "      <th>4</th>\n",
       "      <td>249</td>\n",
       "      <td>2015-08-07</td>\n",
       "      <td>0.0</td>\n",
       "    </tr>\n",
       "  </tbody>\n",
       "</table>\n",
       "</div>"
      ],
      "text/plain": [
       "   store_code  date_daily  sales\n",
       "0         249  2015-08-03    0.0\n",
       "1         249  2015-08-04    0.0\n",
       "2         249  2015-08-05    0.0\n",
       "3         249  2015-08-06    0.0\n",
       "4         249  2015-08-07    0.0"
      ]
     },
     "execution_count": 237,
     "metadata": {},
     "output_type": "execute_result"
    }
   ],
   "source": [
    "sales_daily.head()"
   ]
  },
  {
   "cell_type": "code",
   "execution_count": 21,
   "metadata": {},
   "outputs": [
    {
     "data": {
      "text/html": [
       "<div>\n",
       "<style scoped>\n",
       "    .dataframe tbody tr th:only-of-type {\n",
       "        vertical-align: middle;\n",
       "    }\n",
       "\n",
       "    .dataframe tbody tr th {\n",
       "        vertical-align: top;\n",
       "    }\n",
       "\n",
       "    .dataframe thead th {\n",
       "        text-align: right;\n",
       "    }\n",
       "</style>\n",
       "<table border=\"1\" class=\"dataframe\">\n",
       "  <thead>\n",
       "    <tr style=\"text-align: right;\">\n",
       "      <th></th>\n",
       "      <th>store_code</th>\n",
       "      <th>surroundings</th>\n",
       "      <th>subway_station</th>\n",
       "      <th>department_store</th>\n",
       "      <th>embassy</th>\n",
       "      <th>beauty_salon</th>\n",
       "      <th>police</th>\n",
       "      <th>courthouse</th>\n",
       "      <th>cemetery</th>\n",
       "      <th>pharmacy</th>\n",
       "      <th>...</th>\n",
       "      <th>storage</th>\n",
       "      <th>zoo</th>\n",
       "      <th>train_station</th>\n",
       "      <th>jewelry_store</th>\n",
       "      <th>laundry</th>\n",
       "      <th>insurance_agency</th>\n",
       "      <th>plumber</th>\n",
       "      <th>pet_store</th>\n",
       "      <th>bakery</th>\n",
       "      <th>travel_agency</th>\n",
       "    </tr>\n",
       "  </thead>\n",
       "  <tbody>\n",
       "    <tr>\n",
       "      <th>0</th>\n",
       "      <td>10055</td>\n",
       "      <td>{u'subway_station': [], u'department_store': [...</td>\n",
       "      <td>0</td>\n",
       "      <td>0</td>\n",
       "      <td>0</td>\n",
       "      <td>4</td>\n",
       "      <td>0</td>\n",
       "      <td>0</td>\n",
       "      <td>0</td>\n",
       "      <td>3</td>\n",
       "      <td>...</td>\n",
       "      <td>1</td>\n",
       "      <td>0</td>\n",
       "      <td>0</td>\n",
       "      <td>0</td>\n",
       "      <td>1</td>\n",
       "      <td>2</td>\n",
       "      <td>0</td>\n",
       "      <td>0</td>\n",
       "      <td>3</td>\n",
       "      <td>1</td>\n",
       "    </tr>\n",
       "    <tr>\n",
       "      <th>1</th>\n",
       "      <td>10077</td>\n",
       "      <td>{u'subway_station': [], u'department_store': [...</td>\n",
       "      <td>0</td>\n",
       "      <td>0</td>\n",
       "      <td>0</td>\n",
       "      <td>0</td>\n",
       "      <td>0</td>\n",
       "      <td>0</td>\n",
       "      <td>0</td>\n",
       "      <td>1</td>\n",
       "      <td>...</td>\n",
       "      <td>0</td>\n",
       "      <td>0</td>\n",
       "      <td>0</td>\n",
       "      <td>0</td>\n",
       "      <td>0</td>\n",
       "      <td>0</td>\n",
       "      <td>0</td>\n",
       "      <td>0</td>\n",
       "      <td>1</td>\n",
       "      <td>0</td>\n",
       "    </tr>\n",
       "    <tr>\n",
       "      <th>2</th>\n",
       "      <td>10079</td>\n",
       "      <td>{u'subway_station': [], u'department_store': [...</td>\n",
       "      <td>0</td>\n",
       "      <td>1</td>\n",
       "      <td>0</td>\n",
       "      <td>4</td>\n",
       "      <td>0</td>\n",
       "      <td>1</td>\n",
       "      <td>0</td>\n",
       "      <td>3</td>\n",
       "      <td>...</td>\n",
       "      <td>0</td>\n",
       "      <td>0</td>\n",
       "      <td>0</td>\n",
       "      <td>4</td>\n",
       "      <td>2</td>\n",
       "      <td>2</td>\n",
       "      <td>0</td>\n",
       "      <td>0</td>\n",
       "      <td>3</td>\n",
       "      <td>2</td>\n",
       "    </tr>\n",
       "    <tr>\n",
       "      <th>3</th>\n",
       "      <td>10086</td>\n",
       "      <td>{u'subway_station': [], u'department_store': [...</td>\n",
       "      <td>0</td>\n",
       "      <td>0</td>\n",
       "      <td>0</td>\n",
       "      <td>2</td>\n",
       "      <td>0</td>\n",
       "      <td>0</td>\n",
       "      <td>0</td>\n",
       "      <td>1</td>\n",
       "      <td>...</td>\n",
       "      <td>0</td>\n",
       "      <td>0</td>\n",
       "      <td>0</td>\n",
       "      <td>0</td>\n",
       "      <td>0</td>\n",
       "      <td>0</td>\n",
       "      <td>0</td>\n",
       "      <td>0</td>\n",
       "      <td>0</td>\n",
       "      <td>0</td>\n",
       "    </tr>\n",
       "    <tr>\n",
       "      <th>4</th>\n",
       "      <td>10111</td>\n",
       "      <td>{u'subway_station': [], u'department_store': [...</td>\n",
       "      <td>0</td>\n",
       "      <td>0</td>\n",
       "      <td>0</td>\n",
       "      <td>0</td>\n",
       "      <td>0</td>\n",
       "      <td>0</td>\n",
       "      <td>0</td>\n",
       "      <td>0</td>\n",
       "      <td>...</td>\n",
       "      <td>0</td>\n",
       "      <td>0</td>\n",
       "      <td>0</td>\n",
       "      <td>1</td>\n",
       "      <td>0</td>\n",
       "      <td>0</td>\n",
       "      <td>0</td>\n",
       "      <td>1</td>\n",
       "      <td>0</td>\n",
       "      <td>0</td>\n",
       "    </tr>\n",
       "  </tbody>\n",
       "</table>\n",
       "<p>5 rows × 91 columns</p>\n",
       "</div>"
      ],
      "text/plain": [
       "   store_code                                       surroundings  \\\n",
       "0       10055  {u'subway_station': [], u'department_store': [...   \n",
       "1       10077  {u'subway_station': [], u'department_store': [...   \n",
       "2       10079  {u'subway_station': [], u'department_store': [...   \n",
       "3       10086  {u'subway_station': [], u'department_store': [...   \n",
       "4       10111  {u'subway_station': [], u'department_store': [...   \n",
       "\n",
       "   subway_station  department_store  embassy  beauty_salon  police  \\\n",
       "0               0                 0        0             4       0   \n",
       "1               0                 0        0             0       0   \n",
       "2               0                 1        0             4       0   \n",
       "3               0                 0        0             2       0   \n",
       "4               0                 0        0             0       0   \n",
       "\n",
       "   courthouse  cemetery  pharmacy      ...        storage  zoo  train_station  \\\n",
       "0           0         0         3      ...              1    0              0   \n",
       "1           0         0         1      ...              0    0              0   \n",
       "2           1         0         3      ...              0    0              0   \n",
       "3           0         0         1      ...              0    0              0   \n",
       "4           0         0         0      ...              0    0              0   \n",
       "\n",
       "   jewelry_store  laundry  insurance_agency  plumber  pet_store  bakery  \\\n",
       "0              0        1                 2        0          0       3   \n",
       "1              0        0                 0        0          0       1   \n",
       "2              4        2                 2        0          0       3   \n",
       "3              0        0                 0        0          0       0   \n",
       "4              1        0                 0        0          1       0   \n",
       "\n",
       "   travel_agency  \n",
       "0              1  \n",
       "1              0  \n",
       "2              2  \n",
       "3              0  \n",
       "4              0  \n",
       "\n",
       "[5 rows x 91 columns]"
      ]
     },
     "execution_count": 21,
     "metadata": {},
     "output_type": "execute_result"
    }
   ],
   "source": [
    "surroundings.head()"
   ]
  },
  {
   "cell_type": "markdown",
   "metadata": {},
   "source": [
    "### The Data to use for modeling:\n",
    "\n",
    "#### To link the sales to the surroundings, I'm going to join the sales data at the daily level with the surroundings data on the store_code column\n",
    "\n",
    "##### I have noticed that there are more stores in the surroundings data than in the sales with a few stores in the sales data and not on the surroundings data so I 'inner' joined them. (default in pandas.merge())"
   ]
  },
  {
   "cell_type": "code",
   "execution_count": 22,
   "metadata": {
    "collapsed": true
   },
   "outputs": [],
   "source": [
    "data = pd.merge(surroundings, sales_daily, on=['store_code'])"
   ]
  },
  {
   "cell_type": "code",
   "execution_count": 238,
   "metadata": {},
   "outputs": [
    {
     "data": {
      "text/html": [
       "<div>\n",
       "<style scoped>\n",
       "    .dataframe tbody tr th:only-of-type {\n",
       "        vertical-align: middle;\n",
       "    }\n",
       "\n",
       "    .dataframe tbody tr th {\n",
       "        vertical-align: top;\n",
       "    }\n",
       "\n",
       "    .dataframe thead th {\n",
       "        text-align: right;\n",
       "    }\n",
       "</style>\n",
       "<table border=\"1\" class=\"dataframe\">\n",
       "  <thead>\n",
       "    <tr style=\"text-align: right;\">\n",
       "      <th></th>\n",
       "      <th>store_code</th>\n",
       "      <th>subway_station</th>\n",
       "      <th>department_store</th>\n",
       "      <th>embassy</th>\n",
       "      <th>beauty_salon</th>\n",
       "      <th>police</th>\n",
       "      <th>courthouse</th>\n",
       "      <th>cemetery</th>\n",
       "      <th>pharmacy</th>\n",
       "      <th>local_government_office</th>\n",
       "      <th>...</th>\n",
       "      <th>train_station</th>\n",
       "      <th>jewelry_store</th>\n",
       "      <th>laundry</th>\n",
       "      <th>insurance_agency</th>\n",
       "      <th>plumber</th>\n",
       "      <th>pet_store</th>\n",
       "      <th>bakery</th>\n",
       "      <th>travel_agency</th>\n",
       "      <th>date_daily</th>\n",
       "      <th>sales</th>\n",
       "    </tr>\n",
       "  </thead>\n",
       "  <tbody>\n",
       "    <tr>\n",
       "      <th>0</th>\n",
       "      <td>10055</td>\n",
       "      <td>0</td>\n",
       "      <td>0</td>\n",
       "      <td>0</td>\n",
       "      <td>4</td>\n",
       "      <td>0</td>\n",
       "      <td>0</td>\n",
       "      <td>0</td>\n",
       "      <td>3</td>\n",
       "      <td>0</td>\n",
       "      <td>...</td>\n",
       "      <td>0</td>\n",
       "      <td>0</td>\n",
       "      <td>1</td>\n",
       "      <td>2</td>\n",
       "      <td>0</td>\n",
       "      <td>0</td>\n",
       "      <td>3</td>\n",
       "      <td>1</td>\n",
       "      <td>2015-08-03</td>\n",
       "      <td>0.0</td>\n",
       "    </tr>\n",
       "    <tr>\n",
       "      <th>1</th>\n",
       "      <td>10055</td>\n",
       "      <td>0</td>\n",
       "      <td>0</td>\n",
       "      <td>0</td>\n",
       "      <td>4</td>\n",
       "      <td>0</td>\n",
       "      <td>0</td>\n",
       "      <td>0</td>\n",
       "      <td>3</td>\n",
       "      <td>0</td>\n",
       "      <td>...</td>\n",
       "      <td>0</td>\n",
       "      <td>0</td>\n",
       "      <td>1</td>\n",
       "      <td>2</td>\n",
       "      <td>0</td>\n",
       "      <td>0</td>\n",
       "      <td>3</td>\n",
       "      <td>1</td>\n",
       "      <td>2015-08-04</td>\n",
       "      <td>0.0</td>\n",
       "    </tr>\n",
       "    <tr>\n",
       "      <th>2</th>\n",
       "      <td>10055</td>\n",
       "      <td>0</td>\n",
       "      <td>0</td>\n",
       "      <td>0</td>\n",
       "      <td>4</td>\n",
       "      <td>0</td>\n",
       "      <td>0</td>\n",
       "      <td>0</td>\n",
       "      <td>3</td>\n",
       "      <td>0</td>\n",
       "      <td>...</td>\n",
       "      <td>0</td>\n",
       "      <td>0</td>\n",
       "      <td>1</td>\n",
       "      <td>2</td>\n",
       "      <td>0</td>\n",
       "      <td>0</td>\n",
       "      <td>3</td>\n",
       "      <td>1</td>\n",
       "      <td>2015-08-05</td>\n",
       "      <td>0.0</td>\n",
       "    </tr>\n",
       "    <tr>\n",
       "      <th>3</th>\n",
       "      <td>10055</td>\n",
       "      <td>0</td>\n",
       "      <td>0</td>\n",
       "      <td>0</td>\n",
       "      <td>4</td>\n",
       "      <td>0</td>\n",
       "      <td>0</td>\n",
       "      <td>0</td>\n",
       "      <td>3</td>\n",
       "      <td>0</td>\n",
       "      <td>...</td>\n",
       "      <td>0</td>\n",
       "      <td>0</td>\n",
       "      <td>1</td>\n",
       "      <td>2</td>\n",
       "      <td>0</td>\n",
       "      <td>0</td>\n",
       "      <td>3</td>\n",
       "      <td>1</td>\n",
       "      <td>2015-08-06</td>\n",
       "      <td>0.0</td>\n",
       "    </tr>\n",
       "    <tr>\n",
       "      <th>4</th>\n",
       "      <td>10055</td>\n",
       "      <td>0</td>\n",
       "      <td>0</td>\n",
       "      <td>0</td>\n",
       "      <td>4</td>\n",
       "      <td>0</td>\n",
       "      <td>0</td>\n",
       "      <td>0</td>\n",
       "      <td>3</td>\n",
       "      <td>0</td>\n",
       "      <td>...</td>\n",
       "      <td>0</td>\n",
       "      <td>0</td>\n",
       "      <td>1</td>\n",
       "      <td>2</td>\n",
       "      <td>0</td>\n",
       "      <td>0</td>\n",
       "      <td>3</td>\n",
       "      <td>1</td>\n",
       "      <td>2015-08-07</td>\n",
       "      <td>0.0</td>\n",
       "    </tr>\n",
       "  </tbody>\n",
       "</table>\n",
       "<p>5 rows × 92 columns</p>\n",
       "</div>"
      ],
      "text/plain": [
       "   store_code  subway_station  department_store  embassy  beauty_salon  \\\n",
       "0       10055               0                 0        0             4   \n",
       "1       10055               0                 0        0             4   \n",
       "2       10055               0                 0        0             4   \n",
       "3       10055               0                 0        0             4   \n",
       "4       10055               0                 0        0             4   \n",
       "\n",
       "   police  courthouse  cemetery  pharmacy  local_government_office  ...    \\\n",
       "0       0           0         0         3                        0  ...     \n",
       "1       0           0         0         3                        0  ...     \n",
       "2       0           0         0         3                        0  ...     \n",
       "3       0           0         0         3                        0  ...     \n",
       "4       0           0         0         3                        0  ...     \n",
       "\n",
       "   train_station  jewelry_store  laundry  insurance_agency  plumber  \\\n",
       "0              0              0        1                 2        0   \n",
       "1              0              0        1                 2        0   \n",
       "2              0              0        1                 2        0   \n",
       "3              0              0        1                 2        0   \n",
       "4              0              0        1                 2        0   \n",
       "\n",
       "   pet_store  bakery  travel_agency  date_daily  sales  \n",
       "0          0       3              1  2015-08-03    0.0  \n",
       "1          0       3              1  2015-08-04    0.0  \n",
       "2          0       3              1  2015-08-05    0.0  \n",
       "3          0       3              1  2015-08-06    0.0  \n",
       "4          0       3              1  2015-08-07    0.0  \n",
       "\n",
       "[5 rows x 92 columns]"
      ]
     },
     "execution_count": 238,
     "metadata": {},
     "output_type": "execute_result"
    }
   ],
   "source": [
    "data.head()"
   ]
  },
  {
   "cell_type": "code",
   "execution_count": 24,
   "metadata": {},
   "outputs": [
    {
     "data": {
      "text/plain": [
       "545"
      ]
     },
     "execution_count": 24,
     "metadata": {},
     "output_type": "execute_result"
    }
   ],
   "source": [
    "len(surroundings.store_code.unique())"
   ]
  },
  {
   "cell_type": "code",
   "execution_count": 25,
   "metadata": {},
   "outputs": [
    {
     "data": {
      "text/plain": [
       "903"
      ]
     },
     "execution_count": 25,
     "metadata": {},
     "output_type": "execute_result"
    }
   ],
   "source": [
    "len(sales_daily.store_code.unique())"
   ]
  },
  {
   "cell_type": "code",
   "execution_count": 26,
   "metadata": {},
   "outputs": [
    {
     "data": {
      "text/plain": [
       "539"
      ]
     },
     "execution_count": 26,
     "metadata": {},
     "output_type": "execute_result"
    }
   ],
   "source": [
    "len(data.store_code.unique())"
   ]
  },
  {
   "cell_type": "markdown",
   "metadata": {},
   "source": [
    "##### For now, we can remove column surroundings"
   ]
  },
  {
   "cell_type": "code",
   "execution_count": 27,
   "metadata": {},
   "outputs": [],
   "source": [
    "data = data.drop('surroundings',1)"
   ]
  },
  {
   "cell_type": "markdown",
   "metadata": {},
   "source": [
    "#### Initially, I'm going to include the store code in the data.\n",
    "#### However, the store_code values are categorical and here it's considered as a numeric, So I'm going to one hot encode it."
   ]
  },
  {
   "cell_type": "code",
   "execution_count": 28,
   "metadata": {},
   "outputs": [],
   "source": [
    "data_enc = pd.concat([data, pd.get_dummies(data['store_code'], prefix='store_code')], axis=1)"
   ]
  },
  {
   "cell_type": "code",
   "execution_count": 29,
   "metadata": {},
   "outputs": [],
   "source": [
    "data_enc = data_enc.drop(['store_code'], axis=1)"
   ]
  },
  {
   "cell_type": "code",
   "execution_count": 30,
   "metadata": {},
   "outputs": [
    {
     "data": {
      "text/html": [
       "<div>\n",
       "<style scoped>\n",
       "    .dataframe tbody tr th:only-of-type {\n",
       "        vertical-align: middle;\n",
       "    }\n",
       "\n",
       "    .dataframe tbody tr th {\n",
       "        vertical-align: top;\n",
       "    }\n",
       "\n",
       "    .dataframe thead th {\n",
       "        text-align: right;\n",
       "    }\n",
       "</style>\n",
       "<table border=\"1\" class=\"dataframe\">\n",
       "  <thead>\n",
       "    <tr style=\"text-align: right;\">\n",
       "      <th></th>\n",
       "      <th>subway_station</th>\n",
       "      <th>department_store</th>\n",
       "      <th>embassy</th>\n",
       "      <th>beauty_salon</th>\n",
       "      <th>police</th>\n",
       "      <th>courthouse</th>\n",
       "      <th>cemetery</th>\n",
       "      <th>pharmacy</th>\n",
       "      <th>local_government_office</th>\n",
       "      <th>shopping_mall</th>\n",
       "      <th>...</th>\n",
       "      <th>store_code_44781</th>\n",
       "      <th>store_code_45940</th>\n",
       "      <th>store_code_46147</th>\n",
       "      <th>store_code_46279</th>\n",
       "      <th>store_code_46361</th>\n",
       "      <th>store_code_46379</th>\n",
       "      <th>store_code_46468</th>\n",
       "      <th>store_code_46587</th>\n",
       "      <th>store_code_46610</th>\n",
       "      <th>store_code_47724</th>\n",
       "    </tr>\n",
       "  </thead>\n",
       "  <tbody>\n",
       "    <tr>\n",
       "      <th>0</th>\n",
       "      <td>0</td>\n",
       "      <td>0</td>\n",
       "      <td>0</td>\n",
       "      <td>4</td>\n",
       "      <td>0</td>\n",
       "      <td>0</td>\n",
       "      <td>0</td>\n",
       "      <td>3</td>\n",
       "      <td>0</td>\n",
       "      <td>0</td>\n",
       "      <td>...</td>\n",
       "      <td>0</td>\n",
       "      <td>0</td>\n",
       "      <td>0</td>\n",
       "      <td>0</td>\n",
       "      <td>0</td>\n",
       "      <td>0</td>\n",
       "      <td>0</td>\n",
       "      <td>0</td>\n",
       "      <td>0</td>\n",
       "      <td>0</td>\n",
       "    </tr>\n",
       "    <tr>\n",
       "      <th>1</th>\n",
       "      <td>0</td>\n",
       "      <td>0</td>\n",
       "      <td>0</td>\n",
       "      <td>4</td>\n",
       "      <td>0</td>\n",
       "      <td>0</td>\n",
       "      <td>0</td>\n",
       "      <td>3</td>\n",
       "      <td>0</td>\n",
       "      <td>0</td>\n",
       "      <td>...</td>\n",
       "      <td>0</td>\n",
       "      <td>0</td>\n",
       "      <td>0</td>\n",
       "      <td>0</td>\n",
       "      <td>0</td>\n",
       "      <td>0</td>\n",
       "      <td>0</td>\n",
       "      <td>0</td>\n",
       "      <td>0</td>\n",
       "      <td>0</td>\n",
       "    </tr>\n",
       "    <tr>\n",
       "      <th>2</th>\n",
       "      <td>0</td>\n",
       "      <td>0</td>\n",
       "      <td>0</td>\n",
       "      <td>4</td>\n",
       "      <td>0</td>\n",
       "      <td>0</td>\n",
       "      <td>0</td>\n",
       "      <td>3</td>\n",
       "      <td>0</td>\n",
       "      <td>0</td>\n",
       "      <td>...</td>\n",
       "      <td>0</td>\n",
       "      <td>0</td>\n",
       "      <td>0</td>\n",
       "      <td>0</td>\n",
       "      <td>0</td>\n",
       "      <td>0</td>\n",
       "      <td>0</td>\n",
       "      <td>0</td>\n",
       "      <td>0</td>\n",
       "      <td>0</td>\n",
       "    </tr>\n",
       "    <tr>\n",
       "      <th>3</th>\n",
       "      <td>0</td>\n",
       "      <td>0</td>\n",
       "      <td>0</td>\n",
       "      <td>4</td>\n",
       "      <td>0</td>\n",
       "      <td>0</td>\n",
       "      <td>0</td>\n",
       "      <td>3</td>\n",
       "      <td>0</td>\n",
       "      <td>0</td>\n",
       "      <td>...</td>\n",
       "      <td>0</td>\n",
       "      <td>0</td>\n",
       "      <td>0</td>\n",
       "      <td>0</td>\n",
       "      <td>0</td>\n",
       "      <td>0</td>\n",
       "      <td>0</td>\n",
       "      <td>0</td>\n",
       "      <td>0</td>\n",
       "      <td>0</td>\n",
       "    </tr>\n",
       "    <tr>\n",
       "      <th>4</th>\n",
       "      <td>0</td>\n",
       "      <td>0</td>\n",
       "      <td>0</td>\n",
       "      <td>4</td>\n",
       "      <td>0</td>\n",
       "      <td>0</td>\n",
       "      <td>0</td>\n",
       "      <td>3</td>\n",
       "      <td>0</td>\n",
       "      <td>0</td>\n",
       "      <td>...</td>\n",
       "      <td>0</td>\n",
       "      <td>0</td>\n",
       "      <td>0</td>\n",
       "      <td>0</td>\n",
       "      <td>0</td>\n",
       "      <td>0</td>\n",
       "      <td>0</td>\n",
       "      <td>0</td>\n",
       "      <td>0</td>\n",
       "      <td>0</td>\n",
       "    </tr>\n",
       "  </tbody>\n",
       "</table>\n",
       "<p>5 rows × 630 columns</p>\n",
       "</div>"
      ],
      "text/plain": [
       "   subway_station  department_store  embassy  beauty_salon  police  \\\n",
       "0               0                 0        0             4       0   \n",
       "1               0                 0        0             4       0   \n",
       "2               0                 0        0             4       0   \n",
       "3               0                 0        0             4       0   \n",
       "4               0                 0        0             4       0   \n",
       "\n",
       "   courthouse  cemetery  pharmacy  local_government_office  shopping_mall  \\\n",
       "0           0         0         3                        0              0   \n",
       "1           0         0         3                        0              0   \n",
       "2           0         0         3                        0              0   \n",
       "3           0         0         3                        0              0   \n",
       "4           0         0         3                        0              0   \n",
       "\n",
       "         ...         store_code_44781  store_code_45940  store_code_46147  \\\n",
       "0        ...                        0                 0                 0   \n",
       "1        ...                        0                 0                 0   \n",
       "2        ...                        0                 0                 0   \n",
       "3        ...                        0                 0                 0   \n",
       "4        ...                        0                 0                 0   \n",
       "\n",
       "   store_code_46279  store_code_46361  store_code_46379  store_code_46468  \\\n",
       "0                 0                 0                 0                 0   \n",
       "1                 0                 0                 0                 0   \n",
       "2                 0                 0                 0                 0   \n",
       "3                 0                 0                 0                 0   \n",
       "4                 0                 0                 0                 0   \n",
       "\n",
       "   store_code_46587  store_code_46610  store_code_47724  \n",
       "0                 0                 0                 0  \n",
       "1                 0                 0                 0  \n",
       "2                 0                 0                 0  \n",
       "3                 0                 0                 0  \n",
       "4                 0                 0                 0  \n",
       "\n",
       "[5 rows x 630 columns]"
      ]
     },
     "execution_count": 30,
     "metadata": {},
     "output_type": "execute_result"
    }
   ],
   "source": [
    "data_enc.head()"
   ]
  },
  {
   "cell_type": "markdown",
   "metadata": {},
   "source": [
    "### Date Column\n",
    "#### At this level, the date column is still in datetime format, which is not an acceptable format for modeling\n",
    "#### Initially, I'm going to create some basic temporal features : week of year, day of week and month."
   ]
  },
  {
   "cell_type": "code",
   "execution_count": 31,
   "metadata": {},
   "outputs": [],
   "source": [
    "data_enc['week_of_year'] = pd.to_datetime(data_enc['date_daily']).dt.week\n",
    "data_enc['day_of_week'] = pd.to_datetime(data_enc['date_daily']).dt.dayofweek\n",
    "data_enc['month_of_year'] = pd.to_datetime(data_enc['date_daily']).dt.month"
   ]
  },
  {
   "cell_type": "code",
   "execution_count": 32,
   "metadata": {},
   "outputs": [
    {
     "data": {
      "text/html": [
       "<div>\n",
       "<style scoped>\n",
       "    .dataframe tbody tr th:only-of-type {\n",
       "        vertical-align: middle;\n",
       "    }\n",
       "\n",
       "    .dataframe tbody tr th {\n",
       "        vertical-align: top;\n",
       "    }\n",
       "\n",
       "    .dataframe thead th {\n",
       "        text-align: right;\n",
       "    }\n",
       "</style>\n",
       "<table border=\"1\" class=\"dataframe\">\n",
       "  <thead>\n",
       "    <tr style=\"text-align: right;\">\n",
       "      <th></th>\n",
       "      <th>subway_station</th>\n",
       "      <th>department_store</th>\n",
       "      <th>embassy</th>\n",
       "      <th>beauty_salon</th>\n",
       "      <th>police</th>\n",
       "      <th>courthouse</th>\n",
       "      <th>cemetery</th>\n",
       "      <th>pharmacy</th>\n",
       "      <th>local_government_office</th>\n",
       "      <th>shopping_mall</th>\n",
       "      <th>...</th>\n",
       "      <th>store_code_46279</th>\n",
       "      <th>store_code_46361</th>\n",
       "      <th>store_code_46379</th>\n",
       "      <th>store_code_46468</th>\n",
       "      <th>store_code_46587</th>\n",
       "      <th>store_code_46610</th>\n",
       "      <th>store_code_47724</th>\n",
       "      <th>week_of_year</th>\n",
       "      <th>day_of_week</th>\n",
       "      <th>month_of_year</th>\n",
       "    </tr>\n",
       "  </thead>\n",
       "  <tbody>\n",
       "    <tr>\n",
       "      <th>0</th>\n",
       "      <td>0</td>\n",
       "      <td>0</td>\n",
       "      <td>0</td>\n",
       "      <td>4</td>\n",
       "      <td>0</td>\n",
       "      <td>0</td>\n",
       "      <td>0</td>\n",
       "      <td>3</td>\n",
       "      <td>0</td>\n",
       "      <td>0</td>\n",
       "      <td>...</td>\n",
       "      <td>0</td>\n",
       "      <td>0</td>\n",
       "      <td>0</td>\n",
       "      <td>0</td>\n",
       "      <td>0</td>\n",
       "      <td>0</td>\n",
       "      <td>0</td>\n",
       "      <td>32</td>\n",
       "      <td>0</td>\n",
       "      <td>8</td>\n",
       "    </tr>\n",
       "    <tr>\n",
       "      <th>1</th>\n",
       "      <td>0</td>\n",
       "      <td>0</td>\n",
       "      <td>0</td>\n",
       "      <td>4</td>\n",
       "      <td>0</td>\n",
       "      <td>0</td>\n",
       "      <td>0</td>\n",
       "      <td>3</td>\n",
       "      <td>0</td>\n",
       "      <td>0</td>\n",
       "      <td>...</td>\n",
       "      <td>0</td>\n",
       "      <td>0</td>\n",
       "      <td>0</td>\n",
       "      <td>0</td>\n",
       "      <td>0</td>\n",
       "      <td>0</td>\n",
       "      <td>0</td>\n",
       "      <td>32</td>\n",
       "      <td>1</td>\n",
       "      <td>8</td>\n",
       "    </tr>\n",
       "    <tr>\n",
       "      <th>2</th>\n",
       "      <td>0</td>\n",
       "      <td>0</td>\n",
       "      <td>0</td>\n",
       "      <td>4</td>\n",
       "      <td>0</td>\n",
       "      <td>0</td>\n",
       "      <td>0</td>\n",
       "      <td>3</td>\n",
       "      <td>0</td>\n",
       "      <td>0</td>\n",
       "      <td>...</td>\n",
       "      <td>0</td>\n",
       "      <td>0</td>\n",
       "      <td>0</td>\n",
       "      <td>0</td>\n",
       "      <td>0</td>\n",
       "      <td>0</td>\n",
       "      <td>0</td>\n",
       "      <td>32</td>\n",
       "      <td>2</td>\n",
       "      <td>8</td>\n",
       "    </tr>\n",
       "    <tr>\n",
       "      <th>3</th>\n",
       "      <td>0</td>\n",
       "      <td>0</td>\n",
       "      <td>0</td>\n",
       "      <td>4</td>\n",
       "      <td>0</td>\n",
       "      <td>0</td>\n",
       "      <td>0</td>\n",
       "      <td>3</td>\n",
       "      <td>0</td>\n",
       "      <td>0</td>\n",
       "      <td>...</td>\n",
       "      <td>0</td>\n",
       "      <td>0</td>\n",
       "      <td>0</td>\n",
       "      <td>0</td>\n",
       "      <td>0</td>\n",
       "      <td>0</td>\n",
       "      <td>0</td>\n",
       "      <td>32</td>\n",
       "      <td>3</td>\n",
       "      <td>8</td>\n",
       "    </tr>\n",
       "    <tr>\n",
       "      <th>4</th>\n",
       "      <td>0</td>\n",
       "      <td>0</td>\n",
       "      <td>0</td>\n",
       "      <td>4</td>\n",
       "      <td>0</td>\n",
       "      <td>0</td>\n",
       "      <td>0</td>\n",
       "      <td>3</td>\n",
       "      <td>0</td>\n",
       "      <td>0</td>\n",
       "      <td>...</td>\n",
       "      <td>0</td>\n",
       "      <td>0</td>\n",
       "      <td>0</td>\n",
       "      <td>0</td>\n",
       "      <td>0</td>\n",
       "      <td>0</td>\n",
       "      <td>0</td>\n",
       "      <td>32</td>\n",
       "      <td>4</td>\n",
       "      <td>8</td>\n",
       "    </tr>\n",
       "  </tbody>\n",
       "</table>\n",
       "<p>5 rows × 633 columns</p>\n",
       "</div>"
      ],
      "text/plain": [
       "   subway_station  department_store  embassy  beauty_salon  police  \\\n",
       "0               0                 0        0             4       0   \n",
       "1               0                 0        0             4       0   \n",
       "2               0                 0        0             4       0   \n",
       "3               0                 0        0             4       0   \n",
       "4               0                 0        0             4       0   \n",
       "\n",
       "   courthouse  cemetery  pharmacy  local_government_office  shopping_mall  \\\n",
       "0           0         0         3                        0              0   \n",
       "1           0         0         3                        0              0   \n",
       "2           0         0         3                        0              0   \n",
       "3           0         0         3                        0              0   \n",
       "4           0         0         3                        0              0   \n",
       "\n",
       "       ...        store_code_46279  store_code_46361  store_code_46379  \\\n",
       "0      ...                       0                 0                 0   \n",
       "1      ...                       0                 0                 0   \n",
       "2      ...                       0                 0                 0   \n",
       "3      ...                       0                 0                 0   \n",
       "4      ...                       0                 0                 0   \n",
       "\n",
       "   store_code_46468  store_code_46587  store_code_46610  store_code_47724  \\\n",
       "0                 0                 0                 0                 0   \n",
       "1                 0                 0                 0                 0   \n",
       "2                 0                 0                 0                 0   \n",
       "3                 0                 0                 0                 0   \n",
       "4                 0                 0                 0                 0   \n",
       "\n",
       "   week_of_year  day_of_week  month_of_year  \n",
       "0            32            0              8  \n",
       "1            32            1              8  \n",
       "2            32            2              8  \n",
       "3            32            3              8  \n",
       "4            32            4              8  \n",
       "\n",
       "[5 rows x 633 columns]"
      ]
     },
     "execution_count": 32,
     "metadata": {},
     "output_type": "execute_result"
    }
   ],
   "source": [
    "data_enc.head()"
   ]
  },
  {
   "cell_type": "markdown",
   "metadata": {},
   "source": [
    "### At this point we have the inital data to use for modeling\n",
    "##### Creating the Predictor variables and the target variable"
   ]
  },
  {
   "cell_type": "code",
   "execution_count": 34,
   "metadata": {},
   "outputs": [],
   "source": [
    "data_enc_Y = data_enc.sales\n",
    "data_enc_X = data_enc.drop(['sales','date_daily'],1)"
   ]
  },
  {
   "cell_type": "code",
   "execution_count": 35,
   "metadata": {},
   "outputs": [],
   "source": [
    "from sklearn.model_selection import train_test_split\n",
    "from sklearn import datasets, linear_model"
   ]
  },
  {
   "cell_type": "markdown",
   "metadata": {},
   "source": [
    "##### Splitting the data 80/20 for training and testing."
   ]
  },
  {
   "cell_type": "code",
   "execution_count": 36,
   "metadata": {},
   "outputs": [
    {
     "name": "stdout",
     "output_type": "stream",
     "text": [
      "(299376, 631) (299376,)\n",
      "(74844, 631) (74844,)\n"
     ]
    }
   ],
   "source": [
    "X_train, X_test, y_train, y_test = train_test_split(data_enc_X, data_enc_Y, test_size=0.2)\n",
    "print X_train.shape, y_train.shape\n",
    "print X_test.shape, y_test.shape"
   ]
  },
  {
   "cell_type": "markdown",
   "metadata": {},
   "source": [
    "## Modeling\n",
    "#### For modeling, I have experimented with many different models with no particular reason other than models with different modeling approaches to get better idea on what type of models works best for this particular data, and because these particular models offer a clear visibility on how the used features to get to the prediction.\n",
    "#### The models I chose to include here are LinearRegression, RidgeRegression, Gradient and Extreme Gradient Boosting\n",
    "#### To compare the performace of the models, I chose to use the Coefficient of determination R^2"
   ]
  },
  {
   "cell_type": "markdown",
   "metadata": {},
   "source": [
    "#### Linear Regression Model"
   ]
  },
  {
   "cell_type": "code",
   "execution_count": 37,
   "metadata": {},
   "outputs": [
    {
     "name": "stderr",
     "output_type": "stream",
     "text": [
      "/Library/Frameworks/Python.framework/Versions/2.7/lib/python2.7/site-packages/scipy/linalg/basic.py:1226: RuntimeWarning: internal gelsd driver lwork query error, required iwork dimension not returned. This is likely the result of LAPACK bug 0038, fixed in LAPACK 3.2.2 (released July 21, 2010). Falling back to 'gelss' driver.\n",
      "  warnings.warn(mesg, RuntimeWarning)\n"
     ]
    }
   ],
   "source": [
    "lm = linear_model.LinearRegression()\n",
    "model = lm.fit(X_train, y_train)\n",
    "#predictions = lm.predict(X_test)"
   ]
  },
  {
   "cell_type": "code",
   "execution_count": 38,
   "metadata": {},
   "outputs": [
    {
     "name": "stdout",
     "output_type": "stream",
     "text": [
      "Score: 0.4289986663687093\n"
     ]
    }
   ],
   "source": [
    "print 'Score:', model.score(X_test, y_test)"
   ]
  },
  {
   "cell_type": "markdown",
   "metadata": {},
   "source": [
    "\n",
    "#### GradientBoosting"
   ]
  },
  {
   "cell_type": "code",
   "execution_count": 43,
   "metadata": {
    "collapsed": true
   },
   "outputs": [],
   "source": [
    "from sklearn.ensemble import GradientBoostingRegressor\n",
    "gr = GradientBoostingRegressor()"
   ]
  },
  {
   "cell_type": "code",
   "execution_count": 44,
   "metadata": {
    "collapsed": true
   },
   "outputs": [],
   "source": [
    "gr_model = gr.fit(X_train,y_train)"
   ]
  },
  {
   "cell_type": "code",
   "execution_count": 45,
   "metadata": {},
   "outputs": [
    {
     "data": {
      "text/plain": [
       "0.4875895959424017"
      ]
     },
     "execution_count": 45,
     "metadata": {},
     "output_type": "execute_result"
    }
   ],
   "source": [
    "gr_model.score(X_test, y_test)"
   ]
  },
  {
   "cell_type": "markdown",
   "metadata": {},
   "source": [
    "#### Ridge Regression"
   ]
  },
  {
   "cell_type": "code",
   "execution_count": 64,
   "metadata": {
    "collapsed": true
   },
   "outputs": [],
   "source": [
    "Ridge = linear_model.Ridge()"
   ]
  },
  {
   "cell_type": "code",
   "execution_count": 65,
   "metadata": {},
   "outputs": [
    {
     "data": {
      "text/plain": [
       "Ridge(alpha=1.0, copy_X=True, fit_intercept=True, max_iter=None,\n",
       "   normalize=False, random_state=None, solver='auto', tol=0.001)"
      ]
     },
     "execution_count": 65,
     "metadata": {},
     "output_type": "execute_result"
    }
   ],
   "source": [
    "Ridge.fit(X_train, y_train)"
   ]
  },
  {
   "cell_type": "code",
   "execution_count": 148,
   "metadata": {},
   "outputs": [
    {
     "data": {
      "text/plain": [
       "0.42907293484760356"
      ]
     },
     "execution_count": 148,
     "metadata": {},
     "output_type": "execute_result"
    }
   ],
   "source": [
    "Ridge.score(X_test, y_test)"
   ]
  },
  {
   "cell_type": "markdown",
   "metadata": {},
   "source": [
    "#### Extreme Gradient Boosting"
   ]
  },
  {
   "cell_type": "code",
   "execution_count": 84,
   "metadata": {},
   "outputs": [
    {
     "data": {
      "text/plain": [
       "XGBRegressor(base_score=0.5, booster='gbtree', colsample_bylevel=1,\n",
       "       colsample_bytree=1, gamma=0, learning_rate=0.1, max_delta_step=0,\n",
       "       max_depth=5, min_child_weight=1, missing=None, n_estimators=100,\n",
       "       n_jobs=4, nthread=None, objective='reg:linear', random_state=0,\n",
       "       reg_alpha=0, reg_lambda=1, scale_pos_weight=1, seed=None,\n",
       "       silent=True, subsample=1)"
      ]
     },
     "execution_count": 84,
     "metadata": {},
     "output_type": "execute_result"
    }
   ],
   "source": [
    "from xgboost import XGBRegressor\n",
    "from sklearn.metrics import accuracy_score\n",
    "# specify parameters via map\n",
    "XGB_model = XGBRegressor(n_jobs=4, max_depth=5)\n",
    "XGB_model.fit(X_train, y_train)\n"
   ]
  },
  {
   "cell_type": "code",
   "execution_count": 85,
   "metadata": {},
   "outputs": [
    {
     "data": {
      "text/plain": [
       "0.5579490701133514"
      ]
     },
     "execution_count": 85,
     "metadata": {},
     "output_type": "execute_result"
    }
   ],
   "source": [
    "XGB_model.score(X_train, y_train)"
   ]
  },
  {
   "cell_type": "code",
   "execution_count": 86,
   "metadata": {},
   "outputs": [
    {
     "data": {
      "text/plain": [
       "0.47507721722437524"
      ]
     },
     "execution_count": 86,
     "metadata": {},
     "output_type": "execute_result"
    }
   ],
   "source": [
    "XGB_model.score(X_test, y_test)"
   ]
  },
  {
   "cell_type": "markdown",
   "metadata": {},
   "source": [
    "#### The question that we want to answer with this analysis is to identify the surroudings that impact sales\n",
    "#### In the trees based model, feature importance is a functionality that informs on how impactful the feature is when predicting the output, it is measured by decrease in model accuracy when the variable is removed.  For our purposes this can be interpreted as the higher the importance of the feature, the higher its impact on the sales\n",
    "#### In the regression based models, feature coefficient is the individual contribution of a feature (multiplied by the feature value) to the output, and while the scales might differ due to the nature of the features which can be solved by normalizing, the coefficient of each feature can be a good indication of it's impact on the output, which is the sales in our case.\n"
   ]
  },
  {
   "cell_type": "code",
   "execution_count": 153,
   "metadata": {},
   "outputs": [],
   "source": [
    "XGB_FI = pd.DataFrame(data=[XGB_model.feature_importances_], columns=list(X_train.columns))"
   ]
  },
  {
   "cell_type": "code",
   "execution_count": 154,
   "metadata": {},
   "outputs": [
    {
     "data": {
      "text/html": [
       "<div>\n",
       "<style scoped>\n",
       "    .dataframe tbody tr th:only-of-type {\n",
       "        vertical-align: middle;\n",
       "    }\n",
       "\n",
       "    .dataframe tbody tr th {\n",
       "        vertical-align: top;\n",
       "    }\n",
       "\n",
       "    .dataframe thead th {\n",
       "        text-align: right;\n",
       "    }\n",
       "</style>\n",
       "<table border=\"1\" class=\"dataframe\">\n",
       "  <thead>\n",
       "    <tr style=\"text-align: right;\">\n",
       "      <th></th>\n",
       "      <th>subway_station</th>\n",
       "      <th>department_store</th>\n",
       "      <th>embassy</th>\n",
       "      <th>beauty_salon</th>\n",
       "      <th>police</th>\n",
       "      <th>courthouse</th>\n",
       "      <th>cemetery</th>\n",
       "      <th>pharmacy</th>\n",
       "      <th>local_government_office</th>\n",
       "      <th>shopping_mall</th>\n",
       "      <th>...</th>\n",
       "      <th>store_code_46279</th>\n",
       "      <th>store_code_46361</th>\n",
       "      <th>store_code_46379</th>\n",
       "      <th>store_code_46468</th>\n",
       "      <th>store_code_46587</th>\n",
       "      <th>store_code_46610</th>\n",
       "      <th>store_code_47724</th>\n",
       "      <th>week_of_year</th>\n",
       "      <th>day_of_week</th>\n",
       "      <th>month_of_year</th>\n",
       "    </tr>\n",
       "  </thead>\n",
       "  <tbody>\n",
       "    <tr>\n",
       "      <th>0</th>\n",
       "      <td>0.007379</td>\n",
       "      <td>0.005622</td>\n",
       "      <td>0.006325</td>\n",
       "      <td>0.015812</td>\n",
       "      <td>0.001757</td>\n",
       "      <td>0.000351</td>\n",
       "      <td>0.0</td>\n",
       "      <td>0.007027</td>\n",
       "      <td>0.000703</td>\n",
       "      <td>0.000351</td>\n",
       "      <td>...</td>\n",
       "      <td>0.0</td>\n",
       "      <td>0.0</td>\n",
       "      <td>0.0</td>\n",
       "      <td>0.0</td>\n",
       "      <td>0.0</td>\n",
       "      <td>0.0</td>\n",
       "      <td>0.0</td>\n",
       "      <td>0.417428</td>\n",
       "      <td>0.246662</td>\n",
       "      <td>0.073085</td>\n",
       "    </tr>\n",
       "  </tbody>\n",
       "</table>\n",
       "<p>1 rows × 631 columns</p>\n",
       "</div>"
      ],
      "text/plain": [
       "   subway_station  department_store   embassy  beauty_salon    police  \\\n",
       "0        0.007379          0.005622  0.006325      0.015812  0.001757   \n",
       "\n",
       "   courthouse  cemetery  pharmacy  local_government_office  shopping_mall  \\\n",
       "0    0.000351       0.0  0.007027                 0.000703       0.000351   \n",
       "\n",
       "       ...        store_code_46279  store_code_46361  store_code_46379  \\\n",
       "0      ...                     0.0               0.0               0.0   \n",
       "\n",
       "   store_code_46468  store_code_46587  store_code_46610  store_code_47724  \\\n",
       "0               0.0               0.0               0.0               0.0   \n",
       "\n",
       "   week_of_year  day_of_week  month_of_year  \n",
       "0      0.417428     0.246662       0.073085  \n",
       "\n",
       "[1 rows x 631 columns]"
      ]
     },
     "execution_count": 154,
     "metadata": {},
     "output_type": "execute_result"
    }
   ],
   "source": [
    "XGB_FI"
   ]
  },
  {
   "cell_type": "markdown",
   "metadata": {},
   "source": [
    "##### (Please Double Click on the chart to zoom in)\n",
    "#### In this chart, I'm using the log scale to make it clearer"
   ]
  },
  {
   "cell_type": "code",
   "execution_count": 223,
   "metadata": {},
   "outputs": [
    {
     "data": {
      "image/png": "[encoded data removed]",
      "text/plain": [
       "<matplotlib.figure.Figure at 0x35ec5d7d0>"
      ]
     },
     "metadata": {},
     "output_type": "display_data"
    }
   ],
   "source": [
    "feature_importance = XGB_model.feature_importances_\n",
    "plt.figure(figsize=(100, 6))\n",
    "plt.yscale('log', nonposy='clip')\n",
    "plt.bar(range(len(feature_importance)), feature_importance, align='center')\n",
    "plt.xticks(range(len(feature_importance)), list(X_train.columns), rotation='vertical')\n",
    "plt.title('Feature importance')\n",
    "plt.ylabel('Importance')\n",
    "plt.xlabel('Features')\n",
    "plt.show()"
   ]
  },
  {
   "cell_type": "code",
   "execution_count": 151,
   "metadata": {},
   "outputs": [],
   "source": [
    "R_C = pd.DataFrame(data=[Ridge.coef_], columns=list(X_train.columns))"
   ]
  },
  {
   "cell_type": "code",
   "execution_count": 152,
   "metadata": {},
   "outputs": [
    {
     "data": {
      "text/html": [
       "<div>\n",
       "<style scoped>\n",
       "    .dataframe tbody tr th:only-of-type {\n",
       "        vertical-align: middle;\n",
       "    }\n",
       "\n",
       "    .dataframe tbody tr th {\n",
       "        vertical-align: top;\n",
       "    }\n",
       "\n",
       "    .dataframe thead th {\n",
       "        text-align: right;\n",
       "    }\n",
       "</style>\n",
       "<table border=\"1\" class=\"dataframe\">\n",
       "  <thead>\n",
       "    <tr style=\"text-align: right;\">\n",
       "      <th></th>\n",
       "      <th>subway_station</th>\n",
       "      <th>department_store</th>\n",
       "      <th>embassy</th>\n",
       "      <th>beauty_salon</th>\n",
       "      <th>police</th>\n",
       "      <th>courthouse</th>\n",
       "      <th>cemetery</th>\n",
       "      <th>pharmacy</th>\n",
       "      <th>local_government_office</th>\n",
       "      <th>shopping_mall</th>\n",
       "      <th>...</th>\n",
       "      <th>store_code_46279</th>\n",
       "      <th>store_code_46361</th>\n",
       "      <th>store_code_46379</th>\n",
       "      <th>store_code_46468</th>\n",
       "      <th>store_code_46587</th>\n",
       "      <th>store_code_46610</th>\n",
       "      <th>store_code_47724</th>\n",
       "      <th>week_of_year</th>\n",
       "      <th>day_of_week</th>\n",
       "      <th>month_of_year</th>\n",
       "    </tr>\n",
       "  </thead>\n",
       "  <tbody>\n",
       "    <tr>\n",
       "      <th>0</th>\n",
       "      <td>34.646811</td>\n",
       "      <td>7.384217</td>\n",
       "      <td>-17.298099</td>\n",
       "      <td>-6.609083</td>\n",
       "      <td>-23.013802</td>\n",
       "      <td>30.440409</td>\n",
       "      <td>2.342713</td>\n",
       "      <td>8.959195</td>\n",
       "      <td>4.419386</td>\n",
       "      <td>4.576018</td>\n",
       "      <td>...</td>\n",
       "      <td>15.628406</td>\n",
       "      <td>-0.495213</td>\n",
       "      <td>13.191897</td>\n",
       "      <td>-222.908241</td>\n",
       "      <td>42.04037</td>\n",
       "      <td>-12.223185</td>\n",
       "      <td>11.296674</td>\n",
       "      <td>-0.846658</td>\n",
       "      <td>-2.007986</td>\n",
       "      <td>1.455337</td>\n",
       "    </tr>\n",
       "  </tbody>\n",
       "</table>\n",
       "<p>1 rows × 631 columns</p>\n",
       "</div>"
      ],
      "text/plain": [
       "   subway_station  department_store    embassy  beauty_salon     police  \\\n",
       "0       34.646811          7.384217 -17.298099     -6.609083 -23.013802   \n",
       "\n",
       "   courthouse  cemetery  pharmacy  local_government_office  shopping_mall  \\\n",
       "0   30.440409  2.342713  8.959195                 4.419386       4.576018   \n",
       "\n",
       "       ...        store_code_46279  store_code_46361  store_code_46379  \\\n",
       "0      ...               15.628406         -0.495213         13.191897   \n",
       "\n",
       "   store_code_46468  store_code_46587  store_code_46610  store_code_47724  \\\n",
       "0       -222.908241          42.04037        -12.223185         11.296674   \n",
       "\n",
       "   week_of_year  day_of_week  month_of_year  \n",
       "0     -0.846658    -2.007986       1.455337  \n",
       "\n",
       "[1 rows x 631 columns]"
      ]
     },
     "execution_count": 152,
     "metadata": {},
     "output_type": "execute_result"
    }
   ],
   "source": [
    "R_C"
   ]
  },
  {
   "cell_type": "markdown",
   "metadata": {},
   "source": [
    "##### (Please Double Click on the chart to zoom in)\n",
    "#### In the chart below, the scale is linear.\n",
    "#### While we can notice the difference in the impact created by the different surroundings on sales, this model relies more on the store features, notice how the coefficients can be positive or negative, this can give an idea on which features increase or decrease the sales"
   ]
  },
  {
   "cell_type": "code",
   "execution_count": 221,
   "metadata": {},
   "outputs": [
    {
     "data": {
      "image/png": "[encoded data removed]",
      "text/plain": [
       "<matplotlib.figure.Figure at 0x35dbd3d50>"
      ]
     },
     "metadata": {},
     "output_type": "display_data"
    }
   ],
   "source": [
    "feature_importance = Ridge.coef_\n",
    "plt.figure(figsize=(100, 6))\n",
    "plt.yscale('linear', nonposy='clip')\n",
    "plt.bar(range(len(feature_importance)), feature_importance, align='center')\n",
    "plt.xticks(range(len(feature_importance)), list(X_train.columns), rotation='vertical')\n",
    "plt.title('Feature importance')\n",
    "plt.ylabel('Importance')\n",
    "plt.xlabel('Features')\n",
    "plt.show()"
   ]
  },
  {
   "cell_type": "code",
   "execution_count": null,
   "metadata": {
    "collapsed": true
   },
   "outputs": [],
   "source": []
  },
  {
   "cell_type": "markdown",
   "metadata": {},
   "source": [
    "### Let's try using only the surroundings features"
   ]
  },
  {
   "cell_type": "code",
   "execution_count": 158,
   "metadata": {},
   "outputs": [
    {
     "data": {
      "text/html": [
       "<div>\n",
       "<style scoped>\n",
       "    .dataframe tbody tr th:only-of-type {\n",
       "        vertical-align: middle;\n",
       "    }\n",
       "\n",
       "    .dataframe tbody tr th {\n",
       "        vertical-align: top;\n",
       "    }\n",
       "\n",
       "    .dataframe thead th {\n",
       "        text-align: right;\n",
       "    }\n",
       "</style>\n",
       "<table border=\"1\" class=\"dataframe\">\n",
       "  <thead>\n",
       "    <tr style=\"text-align: right;\">\n",
       "      <th></th>\n",
       "      <th>store_code</th>\n",
       "      <th>subway_station</th>\n",
       "      <th>department_store</th>\n",
       "      <th>embassy</th>\n",
       "      <th>beauty_salon</th>\n",
       "      <th>police</th>\n",
       "      <th>courthouse</th>\n",
       "      <th>cemetery</th>\n",
       "      <th>pharmacy</th>\n",
       "      <th>local_government_office</th>\n",
       "      <th>...</th>\n",
       "      <th>train_station</th>\n",
       "      <th>jewelry_store</th>\n",
       "      <th>laundry</th>\n",
       "      <th>insurance_agency</th>\n",
       "      <th>plumber</th>\n",
       "      <th>pet_store</th>\n",
       "      <th>bakery</th>\n",
       "      <th>travel_agency</th>\n",
       "      <th>date_daily</th>\n",
       "      <th>sales</th>\n",
       "    </tr>\n",
       "  </thead>\n",
       "  <tbody>\n",
       "    <tr>\n",
       "      <th>0</th>\n",
       "      <td>10055</td>\n",
       "      <td>0</td>\n",
       "      <td>0</td>\n",
       "      <td>0</td>\n",
       "      <td>4</td>\n",
       "      <td>0</td>\n",
       "      <td>0</td>\n",
       "      <td>0</td>\n",
       "      <td>3</td>\n",
       "      <td>0</td>\n",
       "      <td>...</td>\n",
       "      <td>0</td>\n",
       "      <td>0</td>\n",
       "      <td>1</td>\n",
       "      <td>2</td>\n",
       "      <td>0</td>\n",
       "      <td>0</td>\n",
       "      <td>3</td>\n",
       "      <td>1</td>\n",
       "      <td>2015-08-03</td>\n",
       "      <td>0.0</td>\n",
       "    </tr>\n",
       "    <tr>\n",
       "      <th>1</th>\n",
       "      <td>10055</td>\n",
       "      <td>0</td>\n",
       "      <td>0</td>\n",
       "      <td>0</td>\n",
       "      <td>4</td>\n",
       "      <td>0</td>\n",
       "      <td>0</td>\n",
       "      <td>0</td>\n",
       "      <td>3</td>\n",
       "      <td>0</td>\n",
       "      <td>...</td>\n",
       "      <td>0</td>\n",
       "      <td>0</td>\n",
       "      <td>1</td>\n",
       "      <td>2</td>\n",
       "      <td>0</td>\n",
       "      <td>0</td>\n",
       "      <td>3</td>\n",
       "      <td>1</td>\n",
       "      <td>2015-08-04</td>\n",
       "      <td>0.0</td>\n",
       "    </tr>\n",
       "    <tr>\n",
       "      <th>2</th>\n",
       "      <td>10055</td>\n",
       "      <td>0</td>\n",
       "      <td>0</td>\n",
       "      <td>0</td>\n",
       "      <td>4</td>\n",
       "      <td>0</td>\n",
       "      <td>0</td>\n",
       "      <td>0</td>\n",
       "      <td>3</td>\n",
       "      <td>0</td>\n",
       "      <td>...</td>\n",
       "      <td>0</td>\n",
       "      <td>0</td>\n",
       "      <td>1</td>\n",
       "      <td>2</td>\n",
       "      <td>0</td>\n",
       "      <td>0</td>\n",
       "      <td>3</td>\n",
       "      <td>1</td>\n",
       "      <td>2015-08-05</td>\n",
       "      <td>0.0</td>\n",
       "    </tr>\n",
       "    <tr>\n",
       "      <th>3</th>\n",
       "      <td>10055</td>\n",
       "      <td>0</td>\n",
       "      <td>0</td>\n",
       "      <td>0</td>\n",
       "      <td>4</td>\n",
       "      <td>0</td>\n",
       "      <td>0</td>\n",
       "      <td>0</td>\n",
       "      <td>3</td>\n",
       "      <td>0</td>\n",
       "      <td>...</td>\n",
       "      <td>0</td>\n",
       "      <td>0</td>\n",
       "      <td>1</td>\n",
       "      <td>2</td>\n",
       "      <td>0</td>\n",
       "      <td>0</td>\n",
       "      <td>3</td>\n",
       "      <td>1</td>\n",
       "      <td>2015-08-06</td>\n",
       "      <td>0.0</td>\n",
       "    </tr>\n",
       "    <tr>\n",
       "      <th>4</th>\n",
       "      <td>10055</td>\n",
       "      <td>0</td>\n",
       "      <td>0</td>\n",
       "      <td>0</td>\n",
       "      <td>4</td>\n",
       "      <td>0</td>\n",
       "      <td>0</td>\n",
       "      <td>0</td>\n",
       "      <td>3</td>\n",
       "      <td>0</td>\n",
       "      <td>...</td>\n",
       "      <td>0</td>\n",
       "      <td>0</td>\n",
       "      <td>1</td>\n",
       "      <td>2</td>\n",
       "      <td>0</td>\n",
       "      <td>0</td>\n",
       "      <td>3</td>\n",
       "      <td>1</td>\n",
       "      <td>2015-08-07</td>\n",
       "      <td>0.0</td>\n",
       "    </tr>\n",
       "  </tbody>\n",
       "</table>\n",
       "<p>5 rows × 92 columns</p>\n",
       "</div>"
      ],
      "text/plain": [
       "   store_code  subway_station  department_store  embassy  beauty_salon  \\\n",
       "0       10055               0                 0        0             4   \n",
       "1       10055               0                 0        0             4   \n",
       "2       10055               0                 0        0             4   \n",
       "3       10055               0                 0        0             4   \n",
       "4       10055               0                 0        0             4   \n",
       "\n",
       "   police  courthouse  cemetery  pharmacy  local_government_office  ...    \\\n",
       "0       0           0         0         3                        0  ...     \n",
       "1       0           0         0         3                        0  ...     \n",
       "2       0           0         0         3                        0  ...     \n",
       "3       0           0         0         3                        0  ...     \n",
       "4       0           0         0         3                        0  ...     \n",
       "\n",
       "   train_station  jewelry_store  laundry  insurance_agency  plumber  \\\n",
       "0              0              0        1                 2        0   \n",
       "1              0              0        1                 2        0   \n",
       "2              0              0        1                 2        0   \n",
       "3              0              0        1                 2        0   \n",
       "4              0              0        1                 2        0   \n",
       "\n",
       "   pet_store  bakery  travel_agency  date_daily  sales  \n",
       "0          0       3              1  2015-08-03    0.0  \n",
       "1          0       3              1  2015-08-04    0.0  \n",
       "2          0       3              1  2015-08-05    0.0  \n",
       "3          0       3              1  2015-08-06    0.0  \n",
       "4          0       3              1  2015-08-07    0.0  \n",
       "\n",
       "[5 rows x 92 columns]"
      ]
     },
     "execution_count": 158,
     "metadata": {},
     "output_type": "execute_result"
    }
   ],
   "source": [
    "data.head()"
   ]
  },
  {
   "cell_type": "code",
   "execution_count": 160,
   "metadata": {},
   "outputs": [],
   "source": [
    "data_surr = data.drop(['store_code','date_daily'],1)"
   ]
  },
  {
   "cell_type": "code",
   "execution_count": 164,
   "metadata": {
    "collapsed": true
   },
   "outputs": [],
   "source": [
    "data_surr_Y = data_surr.sales\n",
    "data_surr_X = data_surr.drop(['sales'],1)"
   ]
  },
  {
   "cell_type": "code",
   "execution_count": 165,
   "metadata": {},
   "outputs": [
    {
     "name": "stdout",
     "output_type": "stream",
     "text": [
      "(299376, 89) (299376,)\n",
      "(74844, 89) (74844,)\n"
     ]
    }
   ],
   "source": [
    "X_train_surr, X_test_surr, y_train_surr, y_test_surr = train_test_split(data_surr_X, data_surr_Y, test_size=0.2)\n",
    "print X_train_surr.shape, y_train_surr.shape\n",
    "print X_test_surr.shape, y_test_surr.shape"
   ]
  },
  {
   "cell_type": "code",
   "execution_count": null,
   "metadata": {
    "collapsed": true
   },
   "outputs": [],
   "source": []
  },
  {
   "cell_type": "code",
   "execution_count": 166,
   "metadata": {},
   "outputs": [
    {
     "data": {
      "text/plain": [
       "Ridge(alpha=1.0, copy_X=True, fit_intercept=True, max_iter=None,\n",
       "   normalize=False, random_state=None, solver='auto', tol=0.001)"
      ]
     },
     "execution_count": 166,
     "metadata": {},
     "output_type": "execute_result"
    }
   ],
   "source": [
    "Ridge_surr = linear_model.Ridge()\n",
    "Ridge_surr.fit(X_train_surr, y_train_surr)"
   ]
  },
  {
   "cell_type": "markdown",
   "metadata": {},
   "source": [
    "#### Ridge Regression model is underfitting already."
   ]
  },
  {
   "cell_type": "code",
   "execution_count": 169,
   "metadata": {},
   "outputs": [
    {
     "data": {
      "text/plain": [
       "0.14476700315174662"
      ]
     },
     "execution_count": 169,
     "metadata": {},
     "output_type": "execute_result"
    }
   ],
   "source": [
    "Ridge_surr.score(X_train_surr, y_train_surr)"
   ]
  },
  {
   "cell_type": "code",
   "execution_count": 173,
   "metadata": {},
   "outputs": [
    {
     "data": {
      "text/plain": [
       "XGBRegressor(base_score=0.5, booster='gbtree', colsample_bylevel=1,\n",
       "       colsample_bytree=1, gamma=0, learning_rate=0.1, max_delta_step=0,\n",
       "       max_depth=3, min_child_weight=1, missing=None, n_estimators=100,\n",
       "       n_jobs=4, nthread=None, objective='reg:linear', random_state=0,\n",
       "       reg_alpha=0, reg_lambda=1, scale_pos_weight=1, seed=None,\n",
       "       silent=True, subsample=1)"
      ]
     },
     "execution_count": 173,
     "metadata": {},
     "output_type": "execute_result"
    }
   ],
   "source": [
    "XGB_model_surr = XGBRegressor(n_jobs=4)\n",
    "XGB_model_surr.fit(X_train_surr, y_train_surr)"
   ]
  },
  {
   "cell_type": "markdown",
   "metadata": {},
   "source": [
    "#### XGB model is still performing decently"
   ]
  },
  {
   "cell_type": "code",
   "execution_count": 174,
   "metadata": {},
   "outputs": [
    {
     "data": {
      "text/plain": [
       "0.43144061402225814"
      ]
     },
     "execution_count": 174,
     "metadata": {},
     "output_type": "execute_result"
    }
   ],
   "source": [
    "XGB_model_surr.score(X_train_surr, y_train_surr)"
   ]
  },
  {
   "cell_type": "code",
   "execution_count": 175,
   "metadata": {},
   "outputs": [
    {
     "data": {
      "text/plain": [
       "0.4346930170675471"
      ]
     },
     "execution_count": 175,
     "metadata": {},
     "output_type": "execute_result"
    }
   ],
   "source": [
    "XGB_model_surr.score(X_test_surr, y_test_surr)"
   ]
  },
  {
   "cell_type": "code",
   "execution_count": 176,
   "metadata": {
    "collapsed": true
   },
   "outputs": [],
   "source": [
    "XGB_FI_surr = pd.DataFrame(data=[XGB_model_surr.feature_importances_], columns=list(X_train_surr.columns))"
   ]
  },
  {
   "cell_type": "code",
   "execution_count": 177,
   "metadata": {},
   "outputs": [
    {
     "data": {
      "text/html": [
       "<div>\n",
       "<style scoped>\n",
       "    .dataframe tbody tr th:only-of-type {\n",
       "        vertical-align: middle;\n",
       "    }\n",
       "\n",
       "    .dataframe tbody tr th {\n",
       "        vertical-align: top;\n",
       "    }\n",
       "\n",
       "    .dataframe thead th {\n",
       "        text-align: right;\n",
       "    }\n",
       "</style>\n",
       "<table border=\"1\" class=\"dataframe\">\n",
       "  <thead>\n",
       "    <tr style=\"text-align: right;\">\n",
       "      <th></th>\n",
       "      <th>subway_station</th>\n",
       "      <th>department_store</th>\n",
       "      <th>embassy</th>\n",
       "      <th>beauty_salon</th>\n",
       "      <th>police</th>\n",
       "      <th>courthouse</th>\n",
       "      <th>cemetery</th>\n",
       "      <th>pharmacy</th>\n",
       "      <th>local_government_office</th>\n",
       "      <th>shopping_mall</th>\n",
       "      <th>...</th>\n",
       "      <th>storage</th>\n",
       "      <th>zoo</th>\n",
       "      <th>train_station</th>\n",
       "      <th>jewelry_store</th>\n",
       "      <th>laundry</th>\n",
       "      <th>insurance_agency</th>\n",
       "      <th>plumber</th>\n",
       "      <th>pet_store</th>\n",
       "      <th>bakery</th>\n",
       "      <th>travel_agency</th>\n",
       "    </tr>\n",
       "  </thead>\n",
       "  <tbody>\n",
       "    <tr>\n",
       "      <th>0</th>\n",
       "      <td>0.025518</td>\n",
       "      <td>0.106858</td>\n",
       "      <td>0.022329</td>\n",
       "      <td>0.068581</td>\n",
       "      <td>0.011164</td>\n",
       "      <td>0.001595</td>\n",
       "      <td>0.0</td>\n",
       "      <td>0.051037</td>\n",
       "      <td>0.049442</td>\n",
       "      <td>0.030303</td>\n",
       "      <td>...</td>\n",
       "      <td>0.007974</td>\n",
       "      <td>0.009569</td>\n",
       "      <td>0.0</td>\n",
       "      <td>0.009569</td>\n",
       "      <td>0.007974</td>\n",
       "      <td>0.004785</td>\n",
       "      <td>0.004785</td>\n",
       "      <td>0.017544</td>\n",
       "      <td>0.017544</td>\n",
       "      <td>0.00319</td>\n",
       "    </tr>\n",
       "  </tbody>\n",
       "</table>\n",
       "<p>1 rows × 89 columns</p>\n",
       "</div>"
      ],
      "text/plain": [
       "   subway_station  department_store   embassy  beauty_salon    police  \\\n",
       "0        0.025518          0.106858  0.022329      0.068581  0.011164   \n",
       "\n",
       "   courthouse  cemetery  pharmacy  local_government_office  shopping_mall  \\\n",
       "0    0.001595       0.0  0.051037                 0.049442       0.030303   \n",
       "\n",
       "       ...         storage       zoo  train_station  jewelry_store   laundry  \\\n",
       "0      ...        0.007974  0.009569            0.0       0.009569  0.007974   \n",
       "\n",
       "   insurance_agency   plumber  pet_store    bakery  travel_agency  \n",
       "0          0.004785  0.004785   0.017544  0.017544        0.00319  \n",
       "\n",
       "[1 rows x 89 columns]"
      ]
     },
     "execution_count": 177,
     "metadata": {},
     "output_type": "execute_result"
    }
   ],
   "source": [
    "XGB_FI_surr"
   ]
  },
  {
   "cell_type": "code",
   "execution_count": 224,
   "metadata": {},
   "outputs": [
    {
     "data": {
      "image/png": "[encoded data removed]",
      "text/plain": [
       "<matplotlib.figure.Figure at 0x362a3a590>"
      ]
     },
     "metadata": {},
     "output_type": "display_data"
    }
   ],
   "source": [
    "feature_importance = XGB_model_surr.feature_importances_\n",
    "plt.figure(figsize=(100, 6))\n",
    "plt.yscale('log', nonposy='clip')\n",
    "plt.bar(range(len(feature_importance)), feature_importance, align='center')\n",
    "plt.xticks(range(len(feature_importance)), list(X_train_surr.columns), rotation='vertical')\n",
    "plt.title('Feature importance')\n",
    "plt.ylabel('Importance')\n",
    "plt.xlabel('Features')\n",
    "plt.show()"
   ]
  },
  {
   "cell_type": "code",
   "execution_count": 179,
   "metadata": {},
   "outputs": [
    {
     "data": {
      "text/plain": [
       "LinearRegression(copy_X=True, fit_intercept=True, n_jobs=1, normalize=False)"
      ]
     },
     "execution_count": 179,
     "metadata": {},
     "output_type": "execute_result"
    }
   ],
   "source": [
    "lm_surr = linear_model.LinearRegression()\n",
    "lm_surr.fit(X_train_surr, y_train_surr)"
   ]
  },
  {
   "cell_type": "markdown",
   "metadata": {},
   "source": [
    "#### Just like the Ridge regression, the Linear regression model is underfitting"
   ]
  },
  {
   "cell_type": "code",
   "execution_count": 180,
   "metadata": {},
   "outputs": [
    {
     "data": {
      "text/plain": [
       "0.15094588675319476"
      ]
     },
     "execution_count": 180,
     "metadata": {},
     "output_type": "execute_result"
    }
   ],
   "source": [
    "lm_surr.score(X_test_surr, y_test_surr)"
   ]
  },
  {
   "cell_type": "code",
   "execution_count": 181,
   "metadata": {},
   "outputs": [
    {
     "data": {
      "text/plain": [
       "0.1447670079643678"
      ]
     },
     "execution_count": 181,
     "metadata": {},
     "output_type": "execute_result"
    }
   ],
   "source": [
    "lm_surr.score(X_train_surr, y_train_surr)"
   ]
  },
  {
   "cell_type": "markdown",
   "metadata": {},
   "source": [
    "#### Let's add the temporal feature"
   ]
  },
  {
   "cell_type": "code",
   "execution_count": 182,
   "metadata": {
    "collapsed": true
   },
   "outputs": [],
   "source": [
    "data_sd = data.drop(['store_code'],1)\n",
    "data_sd['week_of_year'] = pd.to_datetime(data['date_daily']).dt.week\n",
    "data_sd['day_of_week'] = pd.to_datetime(data['date_daily']).dt.dayofweek\n",
    "data_sd['month_of_year'] = pd.to_datetime(data['date_daily']).dt.month\n",
    "data_sd = data_sd.drop(['date_daily'],1)\n"
   ]
  },
  {
   "cell_type": "code",
   "execution_count": 183,
   "metadata": {
    "collapsed": true
   },
   "outputs": [],
   "source": [
    "data_sd_Y = data_sd.sales\n",
    "data_sd_X = data_sd.drop(['sales'],1)"
   ]
  },
  {
   "cell_type": "code",
   "execution_count": 184,
   "metadata": {},
   "outputs": [
    {
     "name": "stdout",
     "output_type": "stream",
     "text": [
      "(299376, 92) (299376,)\n",
      "(74844, 92) (74844,)\n"
     ]
    }
   ],
   "source": [
    "X_train_sd, X_test_sd, y_train_sd, y_test_sd = train_test_split(data_sd_X, data_sd_Y, test_size=0.2)\n",
    "print X_train_sd.shape, y_train_sd.shape\n",
    "print X_test_sd.shape, y_test_sd.shape"
   ]
  },
  {
   "cell_type": "code",
   "execution_count": 185,
   "metadata": {},
   "outputs": [
    {
     "data": {
      "text/plain": [
       "XGBRegressor(base_score=0.5, booster='gbtree', colsample_bylevel=1,\n",
       "       colsample_bytree=1, gamma=0, learning_rate=0.1, max_delta_step=0,\n",
       "       max_depth=3, min_child_weight=1, missing=None, n_estimators=100,\n",
       "       n_jobs=4, nthread=None, objective='reg:linear', random_state=0,\n",
       "       reg_alpha=0, reg_lambda=1, scale_pos_weight=1, seed=None,\n",
       "       silent=True, subsample=1)"
      ]
     },
     "execution_count": 185,
     "metadata": {},
     "output_type": "execute_result"
    }
   ],
   "source": [
    "XGB_model_sd = XGBRegressor(n_jobs=4)\n",
    "XGB_model_sd.fit(X_train_sd, y_train_sd)"
   ]
  },
  {
   "cell_type": "markdown",
   "metadata": {},
   "source": [
    "#### XGB performace improved after adding the temporal features"
   ]
  },
  {
   "cell_type": "code",
   "execution_count": 186,
   "metadata": {},
   "outputs": [
    {
     "data": {
      "text/plain": [
       "0.48284548721254217"
      ]
     },
     "execution_count": 186,
     "metadata": {},
     "output_type": "execute_result"
    }
   ],
   "source": [
    "XGB_model_sd.score(X_train_sd, y_train_sd)"
   ]
  },
  {
   "cell_type": "code",
   "execution_count": 187,
   "metadata": {},
   "outputs": [
    {
     "data": {
      "text/plain": [
       "0.4648800892606891"
      ]
     },
     "execution_count": 187,
     "metadata": {},
     "output_type": "execute_result"
    }
   ],
   "source": [
    "XGB_model_sd.score(X_test_sd, y_test_sd)"
   ]
  },
  {
   "cell_type": "markdown",
   "metadata": {},
   "source": [
    "#### The regression models are still performing poorly."
   ]
  },
  {
   "cell_type": "code",
   "execution_count": 188,
   "metadata": {},
   "outputs": [
    {
     "data": {
      "text/plain": [
       "Ridge(alpha=1.0, copy_X=True, fit_intercept=True, max_iter=None,\n",
       "   normalize=False, random_state=None, solver='auto', tol=0.001)"
      ]
     },
     "execution_count": 188,
     "metadata": {},
     "output_type": "execute_result"
    }
   ],
   "source": [
    "Ridge_sd = linear_model.Ridge()\n",
    "Ridge_sd.fit(X_train_sd, y_train_sd)"
   ]
  },
  {
   "cell_type": "code",
   "execution_count": 189,
   "metadata": {},
   "outputs": [
    {
     "data": {
      "text/plain": [
       "0.1474983653222688"
      ]
     },
     "execution_count": 189,
     "metadata": {},
     "output_type": "execute_result"
    }
   ],
   "source": [
    "Ridge_sd.score(X_train_sd, y_train_sd)"
   ]
  },
  {
   "cell_type": "code",
   "execution_count": 190,
   "metadata": {},
   "outputs": [
    {
     "data": {
      "text/plain": [
       "0.14386948691256574"
      ]
     },
     "execution_count": 190,
     "metadata": {},
     "output_type": "execute_result"
    }
   ],
   "source": [
    "Ridge_sd.score(X_test_sd, y_test_sd)"
   ]
  },
  {
   "cell_type": "code",
   "execution_count": 191,
   "metadata": {},
   "outputs": [
    {
     "data": {
      "text/plain": [
       "LinearRegression(copy_X=True, fit_intercept=True, n_jobs=1, normalize=False)"
      ]
     },
     "execution_count": 191,
     "metadata": {},
     "output_type": "execute_result"
    }
   ],
   "source": [
    "lm_sd = linear_model.LinearRegression()\n",
    "lm_sd.fit(X_train_sd, y_train_sd)"
   ]
  },
  {
   "cell_type": "code",
   "execution_count": 193,
   "metadata": {},
   "outputs": [
    {
     "data": {
      "text/plain": [
       "0.1451448229479294"
      ]
     },
     "execution_count": 193,
     "metadata": {},
     "output_type": "execute_result"
    }
   ],
   "source": [
    "lm_sd.score(X_test_sd, y_test_sd)"
   ]
  },
  {
   "cell_type": "code",
   "execution_count": 194,
   "metadata": {},
   "outputs": [
    {
     "data": {
      "text/plain": [
       "0.14637190528015231"
      ]
     },
     "execution_count": 194,
     "metadata": {},
     "output_type": "execute_result"
    }
   ],
   "source": [
    "lm_sd.score(X_train_sd, y_train_sd)"
   ]
  },
  {
   "cell_type": "code",
   "execution_count": 195,
   "metadata": {
    "collapsed": true
   },
   "outputs": [],
   "source": [
    "XGB_FI_sd = pd.DataFrame(data=[XGB_model_sd.feature_importances_], columns=list(X_train_sd.columns))"
   ]
  },
  {
   "cell_type": "code",
   "execution_count": 196,
   "metadata": {},
   "outputs": [
    {
     "data": {
      "text/html": [
       "<div>\n",
       "<style scoped>\n",
       "    .dataframe tbody tr th:only-of-type {\n",
       "        vertical-align: middle;\n",
       "    }\n",
       "\n",
       "    .dataframe tbody tr th {\n",
       "        vertical-align: top;\n",
       "    }\n",
       "\n",
       "    .dataframe thead th {\n",
       "        text-align: right;\n",
       "    }\n",
       "</style>\n",
       "<table border=\"1\" class=\"dataframe\">\n",
       "  <thead>\n",
       "    <tr style=\"text-align: right;\">\n",
       "      <th></th>\n",
       "      <th>subway_station</th>\n",
       "      <th>department_store</th>\n",
       "      <th>embassy</th>\n",
       "      <th>beauty_salon</th>\n",
       "      <th>police</th>\n",
       "      <th>courthouse</th>\n",
       "      <th>cemetery</th>\n",
       "      <th>pharmacy</th>\n",
       "      <th>local_government_office</th>\n",
       "      <th>shopping_mall</th>\n",
       "      <th>...</th>\n",
       "      <th>jewelry_store</th>\n",
       "      <th>laundry</th>\n",
       "      <th>insurance_agency</th>\n",
       "      <th>plumber</th>\n",
       "      <th>pet_store</th>\n",
       "      <th>bakery</th>\n",
       "      <th>travel_agency</th>\n",
       "      <th>week_of_year</th>\n",
       "      <th>day_of_week</th>\n",
       "      <th>month_of_year</th>\n",
       "    </tr>\n",
       "  </thead>\n",
       "  <tbody>\n",
       "    <tr>\n",
       "      <th>0</th>\n",
       "      <td>0.031429</td>\n",
       "      <td>0.065714</td>\n",
       "      <td>0.007143</td>\n",
       "      <td>0.027143</td>\n",
       "      <td>0.005714</td>\n",
       "      <td>0.001429</td>\n",
       "      <td>0.0</td>\n",
       "      <td>0.041429</td>\n",
       "      <td>0.058571</td>\n",
       "      <td>0.007143</td>\n",
       "      <td>...</td>\n",
       "      <td>0.011429</td>\n",
       "      <td>0.017143</td>\n",
       "      <td>0.001429</td>\n",
       "      <td>0.001429</td>\n",
       "      <td>0.01</td>\n",
       "      <td>0.008571</td>\n",
       "      <td>0.004286</td>\n",
       "      <td>0.084286</td>\n",
       "      <td>0.11</td>\n",
       "      <td>0.014286</td>\n",
       "    </tr>\n",
       "  </tbody>\n",
       "</table>\n",
       "<p>1 rows × 92 columns</p>\n",
       "</div>"
      ],
      "text/plain": [
       "   subway_station  department_store   embassy  beauty_salon    police  \\\n",
       "0        0.031429          0.065714  0.007143      0.027143  0.005714   \n",
       "\n",
       "   courthouse  cemetery  pharmacy  local_government_office  shopping_mall  \\\n",
       "0    0.001429       0.0  0.041429                 0.058571       0.007143   \n",
       "\n",
       "       ...        jewelry_store   laundry  insurance_agency   plumber  \\\n",
       "0      ...             0.011429  0.017143          0.001429  0.001429   \n",
       "\n",
       "   pet_store    bakery  travel_agency  week_of_year  day_of_week  \\\n",
       "0       0.01  0.008571       0.004286      0.084286         0.11   \n",
       "\n",
       "   month_of_year  \n",
       "0       0.014286  \n",
       "\n",
       "[1 rows x 92 columns]"
      ]
     },
     "execution_count": 196,
     "metadata": {},
     "output_type": "execute_result"
    }
   ],
   "source": [
    "XGB_FI_sd"
   ]
  },
  {
   "cell_type": "code",
   "execution_count": 217,
   "metadata": {},
   "outputs": [
    {
     "data": {
      "image/png": "[encoded data removed]",
      "text/plain": [
       "<matplotlib.figure.Figure at 0x32949b850>"
      ]
     },
     "metadata": {},
     "output_type": "display_data"
    }
   ],
   "source": [
    "feature_importance = XGB_model_sd.feature_importances_\n",
    "plt.figure(figsize=(50, 6))\n",
    "plt.yscale('log', nonposy='clip')\n",
    "plt.bar(range(len(feature_importance)), feature_importance, align='center')\n",
    "plt.xticks(range(len(feature_importance)), list(X_train_sd.columns), rotation='vertical')\n",
    "plt.title('Feature importance')\n",
    "plt.ylabel('Importance')\n",
    "plt.xlabel('Features')\n",
    "plt.show()"
   ]
  },
  {
   "cell_type": "code",
   "execution_count": 207,
   "metadata": {
    "collapsed": true
   },
   "outputs": [],
   "source": []
  },
  {
   "cell_type": "code",
   "execution_count": null,
   "metadata": {
    "collapsed": true
   },
   "outputs": [],
   "source": []
  },
  {
   "cell_type": "markdown",
   "metadata": {},
   "source": [
    "#### This is analysis is a starting point to begin answering the inital question.\n",
    "#### There are a lot of ways to improve on this apprach:\n",
    "    - Cross validation to improve the model performace.\n",
    "    - Grid search to fine tune the model hyperparameters.\n",
    "    - Fruther Feature Engineering: The surroundings data is very rich with many characteristics, exploring adding some of them not only would give us higher accuracy, but also would give a more details to the surroundings which impact sales the most(create score based on the rating for each surrounding entity for example, include more details about the specialty of each surrounding)\n",
    "    - Based on the business needs, it's possible to aggregate to a more suitable date level (week, month, quarter ...)\n",
    "    "
   ]
  },
  {
   "cell_type": "code",
   "execution_count": null,
   "metadata": {
    "collapsed": true
   },
   "outputs": [],
   "source": []
  }
 ],
 "metadata": {
  "kernelspec": {
   "display_name": "Python 2",
   "language": "python",
   "name": "python2"
  },
  "language_info": {
   "codemirror_mode": {
    "name": "ipython",
    "version": 2
   },
   "file_extension": ".py",
   "mimetype": "text/x-python",
   "name": "python",
   "nbconvert_exporter": "python",
   "pygments_lexer": "ipython2",
   "version": "2.7.13"
  }
 },
 "nbformat": 4,
 "nbformat_minor": 2
}
